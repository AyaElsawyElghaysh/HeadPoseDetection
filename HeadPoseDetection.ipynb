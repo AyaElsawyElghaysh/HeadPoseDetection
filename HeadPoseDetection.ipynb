{
  "cells": [
    {
      "cell_type": "markdown",
      "metadata": {
        "id": "view-in-github",
        "colab_type": "text"
      },
      "source": [
        "<a href=\"https://colab.research.google.com/github/AyaElsawyElghaysh/HeadPoseDetection/blob/main/HeadPoseDetection.ipynb\" target=\"_parent\"><img src=\"https://colab.research.google.com/assets/colab-badge.svg\" alt=\"Open In Colab\"/></a>"
      ]
    },
    {
      "cell_type": "code",
      "execution_count": null,
      "metadata": {
        "id": "eisOJ0xWn6M8"
      },
      "outputs": [],
      "source": [
        "%%capture\n",
        "!pip install mediapipe"
      ]
    },
    {
      "cell_type": "code",
      "execution_count": null,
      "metadata": {
        "id": "G-gtPgns2rlV"
      },
      "outputs": [],
      "source": [
        "import numpy as np\n",
        "import os\n",
        "import scipy.io as sio\n",
        "import cv2\n",
        "import math\n",
        "from math import cos, sin\n",
        "import dlib\n",
        "import glob\n",
        "from pathlib import Path\n",
        "import pandas as pd\n",
        "from PIL import Image, ImageFilter\n",
        "import mediapipe\n",
        "import warnings\n",
        "warnings.filterwarnings('ignore')\n",
        "from sklearn.model_selection import cross_val_score,GridSearchCV\n",
        "from xgboost import XGBRegressor\n",
        "from sklearn.ensemble import RandomForestRegressor\n",
        "from sklearn.svm import SVR\n",
        "from sklearn.metrics import mean_absolute_error\n",
        "from google.colab.patches import cv2_imshow"
      ]
    },
    {
      "cell_type": "code",
      "execution_count": null,
      "metadata": {
        "id": "_2EWkaO3MIKq"
      },
      "outputs": [],
      "source": [
        "predictor=dlib.shape_predictor('/content/drive/MyDrive/Colab Notebooks/shape_predictor_68_face_landmarks.dat')\n",
        "cnn_face_detector=dlib.get_frontal_face_detector()"
      ]
    },
    {
      "cell_type": "code",
      "execution_count": null,
      "metadata": {
        "id": "syHEovIO88gt"
      },
      "outputs": [],
      "source": [
        "import os"
      ]
    },
    {
      "cell_type": "code",
      "execution_count": null,
      "metadata": {
        "id": "zrRpG-Gg5VU0"
      },
      "outputs": [],
      "source": [
        "import zipfile\n",
        "zip_ref = zipfile.ZipFile(\"/content/drive/MyDrive/Colab Notebooks/AFLW2000-3D.zip\", 'r')\n",
        "zip_ref.extractall(\"/tmp\")\n",
        "zip_ref.close()"
      ]
    },
    {
      "cell_type": "code",
      "execution_count": null,
      "metadata": {
        "colab": {
          "base_uri": "https://localhost:8080/"
        },
        "id": "a1GNyD1XHRe0",
        "outputId": "66e9af03-be6e-474a-cc55-2a69d743aa72"
      },
      "outputs": [
        {
          "name": "stdout",
          "output_type": "stream",
          "text": [
            "Looking in indexes: https://pypi.org/simple, https://us-python.pkg.dev/colab-wheels/public/simple/\n",
            "Requirement already satisfied: unzip in /usr/local/lib/python3.7/dist-packages (1.0.0)\n"
          ]
        }
      ],
      "source": [
        "!pip install unzip"
      ]
    },
    {
      "cell_type": "code",
      "execution_count": null,
      "metadata": {
        "colab": {
          "base_uri": "https://localhost:8080/"
        },
        "id": "YkSGqqjqHYH6",
        "outputId": "deb361ad-443a-4183-b528-db840d94fe4b"
      },
      "outputs": [
        {
          "name": "stdout",
          "output_type": "stream",
          "text": [
            "Looking in indexes: https://pypi.org/simple, https://us-python.pkg.dev/colab-wheels/public/simple/\n",
            "Requirement already satisfied: gdown in /usr/local/lib/python3.7/dist-packages (4.4.0)\n",
            "Requirement already satisfied: six in /usr/local/lib/python3.7/dist-packages (from gdown) (1.15.0)\n",
            "Requirement already satisfied: filelock in /usr/local/lib/python3.7/dist-packages (from gdown) (3.7.1)\n",
            "Requirement already satisfied: tqdm in /usr/local/lib/python3.7/dist-packages (from gdown) (4.64.0)\n",
            "Requirement already satisfied: beautifulsoup4 in /usr/local/lib/python3.7/dist-packages (from gdown) (4.6.3)\n",
            "Requirement already satisfied: requests[socks] in /usr/local/lib/python3.7/dist-packages (from gdown) (2.23.0)\n",
            "Requirement already satisfied: idna<3,>=2.5 in /usr/local/lib/python3.7/dist-packages (from requests[socks]->gdown) (2.10)\n",
            "Requirement already satisfied: urllib3!=1.25.0,!=1.25.1,<1.26,>=1.21.1 in /usr/local/lib/python3.7/dist-packages (from requests[socks]->gdown) (1.24.3)\n",
            "Requirement already satisfied: chardet<4,>=3.0.2 in /usr/local/lib/python3.7/dist-packages (from requests[socks]->gdown) (3.0.4)\n",
            "Requirement already satisfied: certifi>=2017.4.17 in /usr/local/lib/python3.7/dist-packages (from requests[socks]->gdown) (2022.6.15)\n",
            "Requirement already satisfied: PySocks!=1.5.7,>=1.5.6 in /usr/local/lib/python3.7/dist-packages (from requests[socks]->gdown) (1.7.1)\n"
          ]
        }
      ],
      "source": [
        "!pip install gdown"
      ]
    },
    {
      "cell_type": "code",
      "execution_count": null,
      "metadata": {
        "id": "zYHUkiyx1q64"
      },
      "outputs": [],
      "source": [
        "FOLDER_PATH=\"/content/drive/MyDrive/PoseDetection\""
      ]
    },
    {
      "cell_type": "code",
      "execution_count": null,
      "metadata": {
        "id": "oyyNBNCX2o2c"
      },
      "outputs": [],
      "source": [
        "## extract all Mat & jpg \n",
        "all_jpg_img=[Path(f).stem for f in glob.glob(FOLDER_PATH+\"/*.jpg\")]\n",
        "all_jpg_mat=[Path(f).stem for f in glob.glob(FOLDER_PATH+\"/*.mat\")]\n",
        "exist_img = [ img for img in all_jpg_mat if img in all_jpg_img]"
      ]
    },
    {
      "cell_type": "code",
      "execution_count": null,
      "metadata": {
        "colab": {
          "base_uri": "https://localhost:8080/"
        },
        "id": "vJDQuynT3Bks",
        "outputId": "008e4e2d-037a-4998-8c16-269eeb5ba90a"
      },
      "outputs": [
        {
          "data": {
            "text/plain": [
              "840"
            ]
          },
          "execution_count": 10,
          "metadata": {},
          "output_type": "execute_result"
        }
      ],
      "source": [
        "len(all_jpg_img)"
      ]
    },
    {
      "cell_type": "code",
      "execution_count": null,
      "metadata": {
        "colab": {
          "base_uri": "https://localhost:8080/"
        },
        "id": "z3zXkRkAipWl",
        "outputId": "be5e5e23-7e4c-4b5d-a3a1-95174a87a9ab"
      },
      "outputs": [
        {
          "data": {
            "text/plain": [
              "840"
            ]
          },
          "execution_count": 11,
          "metadata": {},
          "output_type": "execute_result"
        }
      ],
      "source": [
        "len(exist_img)"
      ]
    },
    {
      "cell_type": "code",
      "execution_count": null,
      "metadata": {
        "colab": {
          "base_uri": "https://localhost:8080/"
        },
        "id": "byDjqUfD3PqZ",
        "outputId": "8072c143-5097-476c-de41-6eb1304545e0"
      },
      "outputs": [
        {
          "data": {
            "text/plain": [
              "840"
            ]
          },
          "execution_count": 12,
          "metadata": {},
          "output_type": "execute_result"
        }
      ],
      "source": [
        "len(all_jpg_mat)"
      ]
    },
    {
      "cell_type": "code",
      "execution_count": null,
      "metadata": {
        "id": "aHoLp9bPTeaO"
      },
      "outputs": [],
      "source": [
        ""
      ]
    },
    {
      "cell_type": "code",
      "execution_count": null,
      "metadata": {
        "id": "du81ztiQ3Wak"
      },
      "outputs": [],
      "source": [
        "# Extract 468-face-landMarks using mediapipe\n",
        "\n",
        "def extract_land_marks(image_name):\n",
        "  faceModule = mediapipe.solutions.face_mesh\n",
        "  # loading image and its correspinding mat file\n",
        "  x_list = []\n",
        "  y_list = []\n",
        "  \n",
        "  image = cv2.imread(FOLDER_PATH +'/'+ image_name +'.jpg')\n",
        "\n",
        "  with faceModule.FaceMesh(static_image_mode=True) as faces:\n",
        "      # loading the image\n",
        "  \n",
        "      # processing the face to extract the landmark points (468 point) for each x,y,z\n",
        "      results = faces.process(cv2.cvtColor(image, cv2.COLOR_BGR2RGB))\n",
        "      if results.multi_face_landmarks != None: \n",
        "        # looping over the faces in the image\n",
        "        \n",
        "        for face in results.multi_face_landmarks:\n",
        "            for landmark in face.landmark:\n",
        "                x = landmark.x\n",
        "                y = landmark.y\n",
        "                x_list.append(x)\n",
        "                y_list.append(y)\n",
        "                # note: the x and y values are scaled to the their width and height so we will get back their actual value in the image\n",
        "                shape = image.shape \n",
        "                relative_x = int(x * shape[1])\n",
        "                relative_y = int(y * shape[0])\n",
        "              \n",
        "                # cv2.putText(image, str(relative_y), (int(relative_x),int(relative_y)), cv2.FONT_HERSHEY_SIMPLEX, 0.4, (0,255,0), 2)\n",
        "                cv2.circle(image, (relative_x, relative_y), radius=1, color=(0, 255, 0), thickness=2)\n",
        "        # cv2_imshow(image)\n",
        "        \n",
        "  return x_list, y_list"
      ]
    },
    {
      "cell_type": "code",
      "execution_count": null,
      "metadata": {
        "id": "uhdyCivx5Bgl"
      },
      "outputs": [],
      "source": [
        "#unit_test for the above function\n",
        "image_name=\"image00002\"\n",
        "x_list,y_list=extract_land_marks(image_name,relative_path=image_name)"
      ]
    },
    {
      "cell_type": "code",
      "execution_count": null,
      "metadata": {
        "colab": {
          "base_uri": "https://localhost:8080/"
        },
        "id": "A282QYey5JMA",
        "outputId": "db01ab46-6c0a-420e-a62e-52b5f834a06c"
      },
      "outputs": [
        {
          "data": {
            "text/plain": [
              "468"
            ]
          },
          "execution_count": 55,
          "metadata": {},
          "output_type": "execute_result"
        }
      ],
      "source": [
        "len(x_list) #468 point"
      ]
    },
    {
      "cell_type": "code",
      "execution_count": null,
      "metadata": {
        "id": "oulyz1fI7B_w"
      },
      "outputs": [],
      "source": [
        "# #append x_list & y-list to be the new features \n",
        "# def landmarks_df(image_name):\n",
        "#   xlist,ylist=extract_land_marks(image_name)\n",
        "#   df_xy=None\n",
        "#   x=None\n",
        "#   y=None\n",
        "#   if len(xlist) !=0 or len(ylist)!=0:\n",
        "#       row_image=np.concatenate((xlist,ylist))\n",
        "#       row_image=row_image.reshape(1,2*468)\n",
        "#       df_xy=pd.DataFrame(row_image)\n",
        "      \n",
        "#       return image_name,df_xy\n",
        "\n"
      ]
    },
    {
      "cell_type": "code",
      "execution_count": null,
      "metadata": {
        "id": "kl_rk1lkneKn"
      },
      "outputs": [],
      "source": [
        "def reshaping(x, y):\n",
        "\n",
        "  x=np.array(x)\n",
        "  x=x.reshape(1,-1)\n",
        "\n",
        "  y=np.array(y)\n",
        "  y=y.reshape(1,-1)\n",
        "\n",
        "  row = np.concatenate( (x, y), axis= 1)\n",
        "\n",
        "  return row"
      ]
    },
    {
      "cell_type": "code",
      "execution_count": null,
      "metadata": {
        "id": "RIGR_QtInVN5"
      },
      "outputs": [],
      "source": [
        "def build_featuresDF(all_jpg_img):\n",
        "  all_data = []\n",
        "  valid_img = []\n",
        "  for img in all_jpg_img:\n",
        "\n",
        "    x_list, y_list = extract_land_marks(img)\n",
        "    # print(f\"length of x= {len(x_list)},  length of y= {len(y_list)}\")\n",
        "\n",
        "    if (len(x_list) != 0) or ( len(y_list) != 0) :\n",
        "\n",
        "      valid_img.append(img)\n",
        "\n",
        "      row = reshaping(x_list, y_list)\n",
        "  \n",
        "      all_data.append(row)\n",
        "      # print(row.shape)\n",
        "\n",
        "  data = np.array(all_data, dtype= np.float32)\n",
        "\n",
        "  data=data.reshape(-1,468*2)\n",
        "\n",
        "  df = pd.DataFrame(data)\n",
        "  # df.add(row , axis= 0)\n",
        "  return df, valid_img\n",
        "  "
      ]
    },
    {
      "cell_type": "code",
      "execution_count": null,
      "metadata": {
        "id": "FrG75BctBiLH"
      },
      "outputs": [],
      "source": [
        "df,valid_image=build_featuresDF(all_jpg_img)"
      ]
    },
    {
      "cell_type": "code",
      "execution_count": null,
      "metadata": {
        "id": "yPUsaMCpmruD"
      },
      "outputs": [],
      "source": [
        "def get_ypr_from_mat(mat_path):\n",
        "    # Get yaw, pitch, roll from .mat annotation.\n",
        "    # They are in radians\n",
        "    mat = sio.loadmat(FOLDER_PATH +'/'+ mat_path +'.mat')\n",
        "    # [pitch yaw roll tdx tdy tdz scale_factor]\n",
        "    pre_pose_params = mat['Pose_Para'][0]\n",
        "    # Get [pitch, yaw, roll]\n",
        "    pose_params = pre_pose_params[:3]\n",
        "    # And convert to degrees.\n",
        "    pitch = pose_params[0] * 180 / np.pi\n",
        "    yaw = pose_params[1] * 180 / np.pi\n",
        "    roll = pose_params[2] * 180 / np.pi\n",
        "    bins = np.array(range(-99, 102, 3))\n",
        "    labels =np.digitize([pitch,yaw,roll], bins) - 1\n",
        "    cont_labels = [pitch,yaw,roll]\n",
        "    return cont_labels #roll, yaw, pitch"
      ]
    },
    {
      "cell_type": "code",
      "execution_count": null,
      "metadata": {
        "colab": {
          "base_uri": "https://localhost:8080/"
        },
        "id": "Sd_rs4deAXYo",
        "outputId": "9ece30e9-5883-4d66-a5c4-b4477c95a2c4"
      },
      "outputs": [
        {
          "data": {
            "text/plain": [
              "[-22.874238643575588, 1.044306042017331, 4.908885557905314]"
            ]
          },
          "execution_count": 61,
          "metadata": {},
          "output_type": "execute_result"
        }
      ],
      "source": [
        "get_ypr_from_mat(\"image00002\")"
      ]
    },
    {
      "cell_type": "code",
      "execution_count": null,
      "metadata": {
        "id": "h4D-cpoPk7ma"
      },
      "outputs": [],
      "source": [
        "def extract_labels(valid_img):\n",
        "  all_labels = []\n",
        "  for img in valid_img:\n",
        "    cont_labels = get_ypr_from_mat(img)\n",
        "    cont_labels = np.array(cont_labels, dtype=np.float32)\n",
        "    cont_labels = cont_labels.reshape(1,-1)\n",
        "\n",
        "    all_labels.append(cont_labels)\n",
        "\n",
        "  data = np.array(all_labels, dtype= np.float32)\n",
        "\n",
        "  data = data.reshape(-1,3)\n",
        "\n",
        "  df = pd.DataFrame(data = data, columns= [\"pitch\",\"yaw\",\"roll\"])\n",
        "\n",
        "  return df"
      ]
    },
    {
      "cell_type": "code",
      "execution_count": null,
      "metadata": {
        "id": "nYsK2qSVDUvl"
      },
      "outputs": [],
      "source": [
        "#all_jpg_img"
      ]
    },
    {
      "cell_type": "code",
      "execution_count": null,
      "metadata": {
        "id": "gw_-8VKJ9eIt"
      },
      "outputs": [],
      "source": [
        "# #test above function on the whole DataFrame\n",
        "# def dataFrameLandMarks(all_jpg_img):\n",
        "#   df=None\n",
        "#   valid_image=[]\n",
        "#   for i in all_jpg_img:\n",
        "#     #print(i)\n",
        "#     image,landmark_df=landmarks_df(i)\n",
        "   \n",
        "#     valid_image.append(i)\n",
        "#     df=pd.concat([df,landmark_df],axis=0)\n",
        "\n",
        "#   return df,valid_image"
      ]
    },
    {
      "cell_type": "code",
      "execution_count": null,
      "metadata": {
        "id": "nrZc4Zd_qMXo"
      },
      "outputs": [],
      "source": [
        "labelDF=extract_labels(valid_image)"
      ]
    },
    {
      "cell_type": "code",
      "execution_count": null,
      "metadata": {
        "colab": {
          "base_uri": "https://localhost:8080/",
          "height": 424
        },
        "id": "oWfXuldJqjzG",
        "outputId": "5f1e1831-f41d-48ab-c6e9-3eb6feb2702b"
      },
      "outputs": [
        {
          "data": {
            "text/html": [
              "\n",
              "  <div id=\"df-788e485a-b3ce-4ac4-a903-26a2c377b1f7\">\n",
              "    <div class=\"colab-df-container\">\n",
              "      <div>\n",
              "<style scoped>\n",
              "    .dataframe tbody tr th:only-of-type {\n",
              "        vertical-align: middle;\n",
              "    }\n",
              "\n",
              "    .dataframe tbody tr th {\n",
              "        vertical-align: top;\n",
              "    }\n",
              "\n",
              "    .dataframe thead th {\n",
              "        text-align: right;\n",
              "    }\n",
              "</style>\n",
              "<table border=\"1\" class=\"dataframe\">\n",
              "  <thead>\n",
              "    <tr style=\"text-align: right;\">\n",
              "      <th></th>\n",
              "      <th>pitch</th>\n",
              "      <th>yaw</th>\n",
              "      <th>roll</th>\n",
              "    </tr>\n",
              "  </thead>\n",
              "  <tbody>\n",
              "    <tr>\n",
              "      <th>0</th>\n",
              "      <td>19.859465</td>\n",
              "      <td>3.529330</td>\n",
              "      <td>-13.114094</td>\n",
              "    </tr>\n",
              "    <tr>\n",
              "      <th>1</th>\n",
              "      <td>-19.040035</td>\n",
              "      <td>-1.734840</td>\n",
              "      <td>-0.003748</td>\n",
              "    </tr>\n",
              "    <tr>\n",
              "      <th>2</th>\n",
              "      <td>8.759531</td>\n",
              "      <td>11.277360</td>\n",
              "      <td>40.998207</td>\n",
              "    </tr>\n",
              "    <tr>\n",
              "      <th>3</th>\n",
              "      <td>10.825566</td>\n",
              "      <td>-26.458492</td>\n",
              "      <td>-1.585853</td>\n",
              "    </tr>\n",
              "    <tr>\n",
              "      <th>4</th>\n",
              "      <td>0.214961</td>\n",
              "      <td>-2.499849</td>\n",
              "      <td>1.453955</td>\n",
              "    </tr>\n",
              "    <tr>\n",
              "      <th>...</th>\n",
              "      <td>...</td>\n",
              "      <td>...</td>\n",
              "      <td>...</td>\n",
              "    </tr>\n",
              "    <tr>\n",
              "      <th>798</th>\n",
              "      <td>2.322391</td>\n",
              "      <td>19.494829</td>\n",
              "      <td>-4.535991</td>\n",
              "    </tr>\n",
              "    <tr>\n",
              "      <th>799</th>\n",
              "      <td>-9.417717</td>\n",
              "      <td>-21.456425</td>\n",
              "      <td>1.561363</td>\n",
              "    </tr>\n",
              "    <tr>\n",
              "      <th>800</th>\n",
              "      <td>-9.503428</td>\n",
              "      <td>7.380381</td>\n",
              "      <td>-0.650560</td>\n",
              "    </tr>\n",
              "    <tr>\n",
              "      <th>801</th>\n",
              "      <td>-8.310953</td>\n",
              "      <td>8.060820</td>\n",
              "      <td>-15.099853</td>\n",
              "    </tr>\n",
              "    <tr>\n",
              "      <th>802</th>\n",
              "      <td>-0.075722</td>\n",
              "      <td>33.212212</td>\n",
              "      <td>2.255904</td>\n",
              "    </tr>\n",
              "  </tbody>\n",
              "</table>\n",
              "<p>803 rows × 3 columns</p>\n",
              "</div>\n",
              "      <button class=\"colab-df-convert\" onclick=\"convertToInteractive('df-788e485a-b3ce-4ac4-a903-26a2c377b1f7')\"\n",
              "              title=\"Convert this dataframe to an interactive table.\"\n",
              "              style=\"display:none;\">\n",
              "        \n",
              "  <svg xmlns=\"http://www.w3.org/2000/svg\" height=\"24px\"viewBox=\"0 0 24 24\"\n",
              "       width=\"24px\">\n",
              "    <path d=\"M0 0h24v24H0V0z\" fill=\"none\"/>\n",
              "    <path d=\"M18.56 5.44l.94 2.06.94-2.06 2.06-.94-2.06-.94-.94-2.06-.94 2.06-2.06.94zm-11 1L8.5 8.5l.94-2.06 2.06-.94-2.06-.94L8.5 2.5l-.94 2.06-2.06.94zm10 10l.94 2.06.94-2.06 2.06-.94-2.06-.94-.94-2.06-.94 2.06-2.06.94z\"/><path d=\"M17.41 7.96l-1.37-1.37c-.4-.4-.92-.59-1.43-.59-.52 0-1.04.2-1.43.59L10.3 9.45l-7.72 7.72c-.78.78-.78 2.05 0 2.83L4 21.41c.39.39.9.59 1.41.59.51 0 1.02-.2 1.41-.59l7.78-7.78 2.81-2.81c.8-.78.8-2.07 0-2.86zM5.41 20L4 18.59l7.72-7.72 1.47 1.35L5.41 20z\"/>\n",
              "  </svg>\n",
              "      </button>\n",
              "      \n",
              "  <style>\n",
              "    .colab-df-container {\n",
              "      display:flex;\n",
              "      flex-wrap:wrap;\n",
              "      gap: 12px;\n",
              "    }\n",
              "\n",
              "    .colab-df-convert {\n",
              "      background-color: #E8F0FE;\n",
              "      border: none;\n",
              "      border-radius: 50%;\n",
              "      cursor: pointer;\n",
              "      display: none;\n",
              "      fill: #1967D2;\n",
              "      height: 32px;\n",
              "      padding: 0 0 0 0;\n",
              "      width: 32px;\n",
              "    }\n",
              "\n",
              "    .colab-df-convert:hover {\n",
              "      background-color: #E2EBFA;\n",
              "      box-shadow: 0px 1px 2px rgba(60, 64, 67, 0.3), 0px 1px 3px 1px rgba(60, 64, 67, 0.15);\n",
              "      fill: #174EA6;\n",
              "    }\n",
              "\n",
              "    [theme=dark] .colab-df-convert {\n",
              "      background-color: #3B4455;\n",
              "      fill: #D2E3FC;\n",
              "    }\n",
              "\n",
              "    [theme=dark] .colab-df-convert:hover {\n",
              "      background-color: #434B5C;\n",
              "      box-shadow: 0px 1px 3px 1px rgba(0, 0, 0, 0.15);\n",
              "      filter: drop-shadow(0px 1px 2px rgba(0, 0, 0, 0.3));\n",
              "      fill: #FFFFFF;\n",
              "    }\n",
              "  </style>\n",
              "\n",
              "      <script>\n",
              "        const buttonEl =\n",
              "          document.querySelector('#df-788e485a-b3ce-4ac4-a903-26a2c377b1f7 button.colab-df-convert');\n",
              "        buttonEl.style.display =\n",
              "          google.colab.kernel.accessAllowed ? 'block' : 'none';\n",
              "\n",
              "        async function convertToInteractive(key) {\n",
              "          const element = document.querySelector('#df-788e485a-b3ce-4ac4-a903-26a2c377b1f7');\n",
              "          const dataTable =\n",
              "            await google.colab.kernel.invokeFunction('convertToInteractive',\n",
              "                                                     [key], {});\n",
              "          if (!dataTable) return;\n",
              "\n",
              "          const docLinkHtml = 'Like what you see? Visit the ' +\n",
              "            '<a target=\"_blank\" href=https://colab.research.google.com/notebooks/data_table.ipynb>data table notebook</a>'\n",
              "            + ' to learn more about interactive tables.';\n",
              "          element.innerHTML = '';\n",
              "          dataTable['output_type'] = 'display_data';\n",
              "          await google.colab.output.renderOutput(dataTable, element);\n",
              "          const docLink = document.createElement('div');\n",
              "          docLink.innerHTML = docLinkHtml;\n",
              "          element.appendChild(docLink);\n",
              "        }\n",
              "      </script>\n",
              "    </div>\n",
              "  </div>\n",
              "  "
            ],
            "text/plain": [
              "         pitch        yaw       roll\n",
              "0    19.859465   3.529330 -13.114094\n",
              "1   -19.040035  -1.734840  -0.003748\n",
              "2     8.759531  11.277360  40.998207\n",
              "3    10.825566 -26.458492  -1.585853\n",
              "4     0.214961  -2.499849   1.453955\n",
              "..         ...        ...        ...\n",
              "798   2.322391  19.494829  -4.535991\n",
              "799  -9.417717 -21.456425   1.561363\n",
              "800  -9.503428   7.380381  -0.650560\n",
              "801  -8.310953   8.060820 -15.099853\n",
              "802  -0.075722  33.212212   2.255904\n",
              "\n",
              "[803 rows x 3 columns]"
            ]
          },
          "execution_count": 66,
          "metadata": {},
          "output_type": "execute_result"
        }
      ],
      "source": [
        "labelDF"
      ]
    },
    {
      "cell_type": "code",
      "execution_count": null,
      "metadata": {
        "colab": {
          "base_uri": "https://localhost:8080/"
        },
        "id": "noFoDIeIqntK",
        "outputId": "078f4c0c-12d6-447c-de89-4598c6e1a382"
      },
      "outputs": [
        {
          "data": {
            "text/plain": [
              "(803, 3)"
            ]
          },
          "execution_count": 67,
          "metadata": {},
          "output_type": "execute_result"
        }
      ],
      "source": [
        "labelDF.shape"
      ]
    },
    {
      "cell_type": "code",
      "execution_count": null,
      "metadata": {
        "colab": {
          "base_uri": "https://localhost:8080/",
          "height": 206
        },
        "id": "Y7IgS6bUhEqw",
        "outputId": "3eb4a256-76f8-49ac-d95d-1a81fa3c0c01"
      },
      "outputs": [
        {
          "data": {
            "text/html": [
              "\n",
              "  <div id=\"df-a2ff9fd9-dcc4-4773-9811-6c53eb540b19\">\n",
              "    <div class=\"colab-df-container\">\n",
              "      <div>\n",
              "<style scoped>\n",
              "    .dataframe tbody tr th:only-of-type {\n",
              "        vertical-align: middle;\n",
              "    }\n",
              "\n",
              "    .dataframe tbody tr th {\n",
              "        vertical-align: top;\n",
              "    }\n",
              "\n",
              "    .dataframe thead th {\n",
              "        text-align: right;\n",
              "    }\n",
              "</style>\n",
              "<table border=\"1\" class=\"dataframe\">\n",
              "  <thead>\n",
              "    <tr style=\"text-align: right;\">\n",
              "      <th></th>\n",
              "      <th>pitch</th>\n",
              "      <th>yaw</th>\n",
              "      <th>roll</th>\n",
              "    </tr>\n",
              "  </thead>\n",
              "  <tbody>\n",
              "    <tr>\n",
              "      <th>0</th>\n",
              "      <td>19.859465</td>\n",
              "      <td>3.529330</td>\n",
              "      <td>-13.114094</td>\n",
              "    </tr>\n",
              "    <tr>\n",
              "      <th>1</th>\n",
              "      <td>-19.040035</td>\n",
              "      <td>-1.734840</td>\n",
              "      <td>-0.003748</td>\n",
              "    </tr>\n",
              "    <tr>\n",
              "      <th>2</th>\n",
              "      <td>8.759531</td>\n",
              "      <td>11.277360</td>\n",
              "      <td>40.998207</td>\n",
              "    </tr>\n",
              "    <tr>\n",
              "      <th>3</th>\n",
              "      <td>10.825566</td>\n",
              "      <td>-26.458492</td>\n",
              "      <td>-1.585854</td>\n",
              "    </tr>\n",
              "    <tr>\n",
              "      <th>4</th>\n",
              "      <td>0.214961</td>\n",
              "      <td>-2.499849</td>\n",
              "      <td>1.453955</td>\n",
              "    </tr>\n",
              "  </tbody>\n",
              "</table>\n",
              "</div>\n",
              "      <button class=\"colab-df-convert\" onclick=\"convertToInteractive('df-a2ff9fd9-dcc4-4773-9811-6c53eb540b19')\"\n",
              "              title=\"Convert this dataframe to an interactive table.\"\n",
              "              style=\"display:none;\">\n",
              "        \n",
              "  <svg xmlns=\"http://www.w3.org/2000/svg\" height=\"24px\"viewBox=\"0 0 24 24\"\n",
              "       width=\"24px\">\n",
              "    <path d=\"M0 0h24v24H0V0z\" fill=\"none\"/>\n",
              "    <path d=\"M18.56 5.44l.94 2.06.94-2.06 2.06-.94-2.06-.94-.94-2.06-.94 2.06-2.06.94zm-11 1L8.5 8.5l.94-2.06 2.06-.94-2.06-.94L8.5 2.5l-.94 2.06-2.06.94zm10 10l.94 2.06.94-2.06 2.06-.94-2.06-.94-.94-2.06-.94 2.06-2.06.94z\"/><path d=\"M17.41 7.96l-1.37-1.37c-.4-.4-.92-.59-1.43-.59-.52 0-1.04.2-1.43.59L10.3 9.45l-7.72 7.72c-.78.78-.78 2.05 0 2.83L4 21.41c.39.39.9.59 1.41.59.51 0 1.02-.2 1.41-.59l7.78-7.78 2.81-2.81c.8-.78.8-2.07 0-2.86zM5.41 20L4 18.59l7.72-7.72 1.47 1.35L5.41 20z\"/>\n",
              "  </svg>\n",
              "      </button>\n",
              "      \n",
              "  <style>\n",
              "    .colab-df-container {\n",
              "      display:flex;\n",
              "      flex-wrap:wrap;\n",
              "      gap: 12px;\n",
              "    }\n",
              "\n",
              "    .colab-df-convert {\n",
              "      background-color: #E8F0FE;\n",
              "      border: none;\n",
              "      border-radius: 50%;\n",
              "      cursor: pointer;\n",
              "      display: none;\n",
              "      fill: #1967D2;\n",
              "      height: 32px;\n",
              "      padding: 0 0 0 0;\n",
              "      width: 32px;\n",
              "    }\n",
              "\n",
              "    .colab-df-convert:hover {\n",
              "      background-color: #E2EBFA;\n",
              "      box-shadow: 0px 1px 2px rgba(60, 64, 67, 0.3), 0px 1px 3px 1px rgba(60, 64, 67, 0.15);\n",
              "      fill: #174EA6;\n",
              "    }\n",
              "\n",
              "    [theme=dark] .colab-df-convert {\n",
              "      background-color: #3B4455;\n",
              "      fill: #D2E3FC;\n",
              "    }\n",
              "\n",
              "    [theme=dark] .colab-df-convert:hover {\n",
              "      background-color: #434B5C;\n",
              "      box-shadow: 0px 1px 3px 1px rgba(0, 0, 0, 0.15);\n",
              "      filter: drop-shadow(0px 1px 2px rgba(0, 0, 0, 0.3));\n",
              "      fill: #FFFFFF;\n",
              "    }\n",
              "  </style>\n",
              "\n",
              "      <script>\n",
              "        const buttonEl =\n",
              "          document.querySelector('#df-a2ff9fd9-dcc4-4773-9811-6c53eb540b19 button.colab-df-convert');\n",
              "        buttonEl.style.display =\n",
              "          google.colab.kernel.accessAllowed ? 'block' : 'none';\n",
              "\n",
              "        async function convertToInteractive(key) {\n",
              "          const element = document.querySelector('#df-a2ff9fd9-dcc4-4773-9811-6c53eb540b19');\n",
              "          const dataTable =\n",
              "            await google.colab.kernel.invokeFunction('convertToInteractive',\n",
              "                                                     [key], {});\n",
              "          if (!dataTable) return;\n",
              "\n",
              "          const docLinkHtml = 'Like what you see? Visit the ' +\n",
              "            '<a target=\"_blank\" href=https://colab.research.google.com/notebooks/data_table.ipynb>data table notebook</a>'\n",
              "            + ' to learn more about interactive tables.';\n",
              "          element.innerHTML = '';\n",
              "          dataTable['output_type'] = 'display_data';\n",
              "          await google.colab.output.renderOutput(dataTable, element);\n",
              "          const docLink = document.createElement('div');\n",
              "          docLink.innerHTML = docLinkHtml;\n",
              "          element.appendChild(docLink);\n",
              "        }\n",
              "      </script>\n",
              "    </div>\n",
              "  </div>\n",
              "  "
            ],
            "text/plain": [
              "       pitch        yaw       roll\n",
              "0  19.859465   3.529330 -13.114094\n",
              "1 -19.040035  -1.734840  -0.003748\n",
              "2   8.759531  11.277360  40.998207\n",
              "3  10.825566 -26.458492  -1.585854\n",
              "4   0.214961  -2.499849   1.453955"
            ]
          },
          "execution_count": 68,
          "metadata": {},
          "output_type": "execute_result"
        }
      ],
      "source": [
        "labelDF.to_csv(\"ypr_label\",index=False) #save to file\n",
        "df2 = pd.read_csv(\"/content/ypr_label\")\n",
        "df2.head()"
      ]
    },
    {
      "cell_type": "markdown",
      "metadata": {
        "id": "HFihJS7_rHxl"
      },
      "source": [
        "#save 468 point into csv file"
      ]
    },
    {
      "cell_type": "code",
      "execution_count": null,
      "metadata": {
        "id": "eQxN26x-qv1O"
      },
      "outputs": [],
      "source": [
        "df.to_csv(\"data468points\",index=False)\n",
        "data=pd.read_csv(\"/content/data468points\")"
      ]
    },
    {
      "cell_type": "code",
      "execution_count": null,
      "metadata": {
        "colab": {
          "base_uri": "https://localhost:8080/",
          "height": 488
        },
        "id": "tcLtFI0Mr2bY",
        "outputId": "8fc9f691-57bc-4acf-9470-8af098ac31ef"
      },
      "outputs": [
        {
          "data": {
            "text/html": [
              "\n",
              "  <div id=\"df-a776028f-5f6c-4cfa-aef3-2b59ebc2fd63\">\n",
              "    <div class=\"colab-df-container\">\n",
              "      <div>\n",
              "<style scoped>\n",
              "    .dataframe tbody tr th:only-of-type {\n",
              "        vertical-align: middle;\n",
              "    }\n",
              "\n",
              "    .dataframe tbody tr th {\n",
              "        vertical-align: top;\n",
              "    }\n",
              "\n",
              "    .dataframe thead th {\n",
              "        text-align: right;\n",
              "    }\n",
              "</style>\n",
              "<table border=\"1\" class=\"dataframe\">\n",
              "  <thead>\n",
              "    <tr style=\"text-align: right;\">\n",
              "      <th></th>\n",
              "      <th>0</th>\n",
              "      <th>1</th>\n",
              "      <th>2</th>\n",
              "      <th>3</th>\n",
              "      <th>4</th>\n",
              "      <th>5</th>\n",
              "      <th>6</th>\n",
              "      <th>7</th>\n",
              "      <th>8</th>\n",
              "      <th>9</th>\n",
              "      <th>...</th>\n",
              "      <th>926</th>\n",
              "      <th>927</th>\n",
              "      <th>928</th>\n",
              "      <th>929</th>\n",
              "      <th>930</th>\n",
              "      <th>931</th>\n",
              "      <th>932</th>\n",
              "      <th>933</th>\n",
              "      <th>934</th>\n",
              "      <th>935</th>\n",
              "    </tr>\n",
              "  </thead>\n",
              "  <tbody>\n",
              "    <tr>\n",
              "      <th>0</th>\n",
              "      <td>0.523277</td>\n",
              "      <td>0.505939</td>\n",
              "      <td>0.514365</td>\n",
              "      <td>0.480361</td>\n",
              "      <td>0.501990</td>\n",
              "      <td>0.498118</td>\n",
              "      <td>0.490049</td>\n",
              "      <td>0.357539</td>\n",
              "      <td>0.482229</td>\n",
              "      <td>0.476993</td>\n",
              "      <td>...</td>\n",
              "      <td>0.555605</td>\n",
              "      <td>0.547423</td>\n",
              "      <td>0.562231</td>\n",
              "      <td>0.556215</td>\n",
              "      <td>0.563540</td>\n",
              "      <td>0.482250</td>\n",
              "      <td>0.486530</td>\n",
              "      <td>0.487370</td>\n",
              "      <td>0.456441</td>\n",
              "      <td>0.445981</td>\n",
              "    </tr>\n",
              "    <tr>\n",
              "      <th>1</th>\n",
              "      <td>0.523301</td>\n",
              "      <td>0.521664</td>\n",
              "      <td>0.520384</td>\n",
              "      <td>0.500291</td>\n",
              "      <td>0.521270</td>\n",
              "      <td>0.519550</td>\n",
              "      <td>0.514295</td>\n",
              "      <td>0.363523</td>\n",
              "      <td>0.512216</td>\n",
              "      <td>0.511932</td>\n",
              "      <td>...</td>\n",
              "      <td>0.643948</td>\n",
              "      <td>0.636299</td>\n",
              "      <td>0.636401</td>\n",
              "      <td>0.647577</td>\n",
              "      <td>0.648883</td>\n",
              "      <td>0.484734</td>\n",
              "      <td>0.493071</td>\n",
              "      <td>0.500421</td>\n",
              "      <td>0.457532</td>\n",
              "      <td>0.451076</td>\n",
              "    </tr>\n",
              "    <tr>\n",
              "      <th>2</th>\n",
              "      <td>0.428060</td>\n",
              "      <td>0.462847</td>\n",
              "      <td>0.460043</td>\n",
              "      <td>0.504004</td>\n",
              "      <td>0.475886</td>\n",
              "      <td>0.498161</td>\n",
              "      <td>0.557878</td>\n",
              "      <td>0.470097</td>\n",
              "      <td>0.594398</td>\n",
              "      <td>0.610846</td>\n",
              "      <td>...</td>\n",
              "      <td>0.620462</td>\n",
              "      <td>0.622537</td>\n",
              "      <td>0.655452</td>\n",
              "      <td>0.618466</td>\n",
              "      <td>0.623118</td>\n",
              "      <td>0.549823</td>\n",
              "      <td>0.545117</td>\n",
              "      <td>0.542222</td>\n",
              "      <td>0.611641</td>\n",
              "      <td>0.615110</td>\n",
              "    </tr>\n",
              "    <tr>\n",
              "      <th>3</th>\n",
              "      <td>0.532379</td>\n",
              "      <td>0.550867</td>\n",
              "      <td>0.534962</td>\n",
              "      <td>0.527670</td>\n",
              "      <td>0.552143</td>\n",
              "      <td>0.547481</td>\n",
              "      <td>0.531225</td>\n",
              "      <td>0.394189</td>\n",
              "      <td>0.527122</td>\n",
              "      <td>0.528203</td>\n",
              "      <td>...</td>\n",
              "      <td>0.573452</td>\n",
              "      <td>0.568773</td>\n",
              "      <td>0.585973</td>\n",
              "      <td>0.573747</td>\n",
              "      <td>0.579145</td>\n",
              "      <td>0.499827</td>\n",
              "      <td>0.501065</td>\n",
              "      <td>0.500774</td>\n",
              "      <td>0.501750</td>\n",
              "      <td>0.495284</td>\n",
              "    </tr>\n",
              "    <tr>\n",
              "      <th>4</th>\n",
              "      <td>0.506423</td>\n",
              "      <td>0.511278</td>\n",
              "      <td>0.508846</td>\n",
              "      <td>0.498115</td>\n",
              "      <td>0.512179</td>\n",
              "      <td>0.512752</td>\n",
              "      <td>0.513709</td>\n",
              "      <td>0.380937</td>\n",
              "      <td>0.514855</td>\n",
              "      <td>0.515985</td>\n",
              "      <td>...</td>\n",
              "      <td>0.613908</td>\n",
              "      <td>0.608323</td>\n",
              "      <td>0.620817</td>\n",
              "      <td>0.615452</td>\n",
              "      <td>0.619419</td>\n",
              "      <td>0.501407</td>\n",
              "      <td>0.505033</td>\n",
              "      <td>0.507288</td>\n",
              "      <td>0.491784</td>\n",
              "      <td>0.485913</td>\n",
              "    </tr>\n",
              "    <tr>\n",
              "      <th>...</th>\n",
              "      <td>...</td>\n",
              "      <td>...</td>\n",
              "      <td>...</td>\n",
              "      <td>...</td>\n",
              "      <td>...</td>\n",
              "      <td>...</td>\n",
              "      <td>...</td>\n",
              "      <td>...</td>\n",
              "      <td>...</td>\n",
              "      <td>...</td>\n",
              "      <td>...</td>\n",
              "      <td>...</td>\n",
              "      <td>...</td>\n",
              "      <td>...</td>\n",
              "      <td>...</td>\n",
              "      <td>...</td>\n",
              "      <td>...</td>\n",
              "      <td>...</td>\n",
              "      <td>...</td>\n",
              "      <td>...</td>\n",
              "      <td>...</td>\n",
              "    </tr>\n",
              "    <tr>\n",
              "      <th>798</th>\n",
              "      <td>0.479869</td>\n",
              "      <td>0.451849</td>\n",
              "      <td>0.472745</td>\n",
              "      <td>0.445637</td>\n",
              "      <td>0.448787</td>\n",
              "      <td>0.452500</td>\n",
              "      <td>0.468183</td>\n",
              "      <td>0.370129</td>\n",
              "      <td>0.469207</td>\n",
              "      <td>0.465482</td>\n",
              "      <td>...</td>\n",
              "      <td>0.613217</td>\n",
              "      <td>0.606111</td>\n",
              "      <td>0.614180</td>\n",
              "      <td>0.614969</td>\n",
              "      <td>0.619246</td>\n",
              "      <td>0.480625</td>\n",
              "      <td>0.486155</td>\n",
              "      <td>0.490317</td>\n",
              "      <td>0.458248</td>\n",
              "      <td>0.447682</td>\n",
              "    </tr>\n",
              "    <tr>\n",
              "      <th>799</th>\n",
              "      <td>0.539819</td>\n",
              "      <td>0.562152</td>\n",
              "      <td>0.542428</td>\n",
              "      <td>0.535207</td>\n",
              "      <td>0.564349</td>\n",
              "      <td>0.559282</td>\n",
              "      <td>0.539480</td>\n",
              "      <td>0.368779</td>\n",
              "      <td>0.534516</td>\n",
              "      <td>0.536501</td>\n",
              "      <td>...</td>\n",
              "      <td>0.622525</td>\n",
              "      <td>0.615883</td>\n",
              "      <td>0.627032</td>\n",
              "      <td>0.624668</td>\n",
              "      <td>0.628638</td>\n",
              "      <td>0.491575</td>\n",
              "      <td>0.497130</td>\n",
              "      <td>0.501123</td>\n",
              "      <td>0.477267</td>\n",
              "      <td>0.471925</td>\n",
              "    </tr>\n",
              "    <tr>\n",
              "      <th>800</th>\n",
              "      <td>0.492023</td>\n",
              "      <td>0.484100</td>\n",
              "      <td>0.491357</td>\n",
              "      <td>0.474483</td>\n",
              "      <td>0.483321</td>\n",
              "      <td>0.485438</td>\n",
              "      <td>0.493760</td>\n",
              "      <td>0.379530</td>\n",
              "      <td>0.496114</td>\n",
              "      <td>0.495448</td>\n",
              "      <td>...</td>\n",
              "      <td>0.619673</td>\n",
              "      <td>0.614233</td>\n",
              "      <td>0.620915</td>\n",
              "      <td>0.621776</td>\n",
              "      <td>0.624072</td>\n",
              "      <td>0.494327</td>\n",
              "      <td>0.499403</td>\n",
              "      <td>0.503776</td>\n",
              "      <td>0.482127</td>\n",
              "      <td>0.475065</td>\n",
              "    </tr>\n",
              "    <tr>\n",
              "      <th>801</th>\n",
              "      <td>0.521586</td>\n",
              "      <td>0.495252</td>\n",
              "      <td>0.507534</td>\n",
              "      <td>0.462877</td>\n",
              "      <td>0.488635</td>\n",
              "      <td>0.482593</td>\n",
              "      <td>0.471447</td>\n",
              "      <td>0.340014</td>\n",
              "      <td>0.460411</td>\n",
              "      <td>0.453129</td>\n",
              "      <td>...</td>\n",
              "      <td>0.616260</td>\n",
              "      <td>0.606680</td>\n",
              "      <td>0.606984</td>\n",
              "      <td>0.620060</td>\n",
              "      <td>0.622965</td>\n",
              "      <td>0.466255</td>\n",
              "      <td>0.475640</td>\n",
              "      <td>0.482309</td>\n",
              "      <td>0.430147</td>\n",
              "      <td>0.422762</td>\n",
              "    </tr>\n",
              "    <tr>\n",
              "      <th>802</th>\n",
              "      <td>0.431517</td>\n",
              "      <td>0.406706</td>\n",
              "      <td>0.436464</td>\n",
              "      <td>0.422481</td>\n",
              "      <td>0.406627</td>\n",
              "      <td>0.419234</td>\n",
              "      <td>0.460125</td>\n",
              "      <td>0.398700</td>\n",
              "      <td>0.474281</td>\n",
              "      <td>0.474408</td>\n",
              "      <td>...</td>\n",
              "      <td>0.593472</td>\n",
              "      <td>0.587798</td>\n",
              "      <td>0.607606</td>\n",
              "      <td>0.593722</td>\n",
              "      <td>0.600085</td>\n",
              "      <td>0.480189</td>\n",
              "      <td>0.484886</td>\n",
              "      <td>0.487646</td>\n",
              "      <td>0.478905</td>\n",
              "      <td>0.469099</td>\n",
              "    </tr>\n",
              "  </tbody>\n",
              "</table>\n",
              "<p>803 rows × 936 columns</p>\n",
              "</div>\n",
              "      <button class=\"colab-df-convert\" onclick=\"convertToInteractive('df-a776028f-5f6c-4cfa-aef3-2b59ebc2fd63')\"\n",
              "              title=\"Convert this dataframe to an interactive table.\"\n",
              "              style=\"display:none;\">\n",
              "        \n",
              "  <svg xmlns=\"http://www.w3.org/2000/svg\" height=\"24px\"viewBox=\"0 0 24 24\"\n",
              "       width=\"24px\">\n",
              "    <path d=\"M0 0h24v24H0V0z\" fill=\"none\"/>\n",
              "    <path d=\"M18.56 5.44l.94 2.06.94-2.06 2.06-.94-2.06-.94-.94-2.06-.94 2.06-2.06.94zm-11 1L8.5 8.5l.94-2.06 2.06-.94-2.06-.94L8.5 2.5l-.94 2.06-2.06.94zm10 10l.94 2.06.94-2.06 2.06-.94-2.06-.94-.94-2.06-.94 2.06-2.06.94z\"/><path d=\"M17.41 7.96l-1.37-1.37c-.4-.4-.92-.59-1.43-.59-.52 0-1.04.2-1.43.59L10.3 9.45l-7.72 7.72c-.78.78-.78 2.05 0 2.83L4 21.41c.39.39.9.59 1.41.59.51 0 1.02-.2 1.41-.59l7.78-7.78 2.81-2.81c.8-.78.8-2.07 0-2.86zM5.41 20L4 18.59l7.72-7.72 1.47 1.35L5.41 20z\"/>\n",
              "  </svg>\n",
              "      </button>\n",
              "      \n",
              "  <style>\n",
              "    .colab-df-container {\n",
              "      display:flex;\n",
              "      flex-wrap:wrap;\n",
              "      gap: 12px;\n",
              "    }\n",
              "\n",
              "    .colab-df-convert {\n",
              "      background-color: #E8F0FE;\n",
              "      border: none;\n",
              "      border-radius: 50%;\n",
              "      cursor: pointer;\n",
              "      display: none;\n",
              "      fill: #1967D2;\n",
              "      height: 32px;\n",
              "      padding: 0 0 0 0;\n",
              "      width: 32px;\n",
              "    }\n",
              "\n",
              "    .colab-df-convert:hover {\n",
              "      background-color: #E2EBFA;\n",
              "      box-shadow: 0px 1px 2px rgba(60, 64, 67, 0.3), 0px 1px 3px 1px rgba(60, 64, 67, 0.15);\n",
              "      fill: #174EA6;\n",
              "    }\n",
              "\n",
              "    [theme=dark] .colab-df-convert {\n",
              "      background-color: #3B4455;\n",
              "      fill: #D2E3FC;\n",
              "    }\n",
              "\n",
              "    [theme=dark] .colab-df-convert:hover {\n",
              "      background-color: #434B5C;\n",
              "      box-shadow: 0px 1px 3px 1px rgba(0, 0, 0, 0.15);\n",
              "      filter: drop-shadow(0px 1px 2px rgba(0, 0, 0, 0.3));\n",
              "      fill: #FFFFFF;\n",
              "    }\n",
              "  </style>\n",
              "\n",
              "      <script>\n",
              "        const buttonEl =\n",
              "          document.querySelector('#df-a776028f-5f6c-4cfa-aef3-2b59ebc2fd63 button.colab-df-convert');\n",
              "        buttonEl.style.display =\n",
              "          google.colab.kernel.accessAllowed ? 'block' : 'none';\n",
              "\n",
              "        async function convertToInteractive(key) {\n",
              "          const element = document.querySelector('#df-a776028f-5f6c-4cfa-aef3-2b59ebc2fd63');\n",
              "          const dataTable =\n",
              "            await google.colab.kernel.invokeFunction('convertToInteractive',\n",
              "                                                     [key], {});\n",
              "          if (!dataTable) return;\n",
              "\n",
              "          const docLinkHtml = 'Like what you see? Visit the ' +\n",
              "            '<a target=\"_blank\" href=https://colab.research.google.com/notebooks/data_table.ipynb>data table notebook</a>'\n",
              "            + ' to learn more about interactive tables.';\n",
              "          element.innerHTML = '';\n",
              "          dataTable['output_type'] = 'display_data';\n",
              "          await google.colab.output.renderOutput(dataTable, element);\n",
              "          const docLink = document.createElement('div');\n",
              "          docLink.innerHTML = docLinkHtml;\n",
              "          element.appendChild(docLink);\n",
              "        }\n",
              "      </script>\n",
              "    </div>\n",
              "  </div>\n",
              "  "
            ],
            "text/plain": [
              "            0         1         2         3         4         5         6  \\\n",
              "0    0.523277  0.505939  0.514365  0.480361  0.501990  0.498118  0.490049   \n",
              "1    0.523301  0.521664  0.520384  0.500291  0.521270  0.519550  0.514295   \n",
              "2    0.428060  0.462847  0.460043  0.504004  0.475886  0.498161  0.557878   \n",
              "3    0.532379  0.550867  0.534962  0.527670  0.552143  0.547481  0.531225   \n",
              "4    0.506423  0.511278  0.508846  0.498115  0.512179  0.512752  0.513709   \n",
              "..        ...       ...       ...       ...       ...       ...       ...   \n",
              "798  0.479869  0.451849  0.472745  0.445637  0.448787  0.452500  0.468183   \n",
              "799  0.539819  0.562152  0.542428  0.535207  0.564349  0.559282  0.539480   \n",
              "800  0.492023  0.484100  0.491357  0.474483  0.483321  0.485438  0.493760   \n",
              "801  0.521586  0.495252  0.507534  0.462877  0.488635  0.482593  0.471447   \n",
              "802  0.431517  0.406706  0.436464  0.422481  0.406627  0.419234  0.460125   \n",
              "\n",
              "            7         8         9  ...       926       927       928  \\\n",
              "0    0.357539  0.482229  0.476993  ...  0.555605  0.547423  0.562231   \n",
              "1    0.363523  0.512216  0.511932  ...  0.643948  0.636299  0.636401   \n",
              "2    0.470097  0.594398  0.610846  ...  0.620462  0.622537  0.655452   \n",
              "3    0.394189  0.527122  0.528203  ...  0.573452  0.568773  0.585973   \n",
              "4    0.380937  0.514855  0.515985  ...  0.613908  0.608323  0.620817   \n",
              "..        ...       ...       ...  ...       ...       ...       ...   \n",
              "798  0.370129  0.469207  0.465482  ...  0.613217  0.606111  0.614180   \n",
              "799  0.368779  0.534516  0.536501  ...  0.622525  0.615883  0.627032   \n",
              "800  0.379530  0.496114  0.495448  ...  0.619673  0.614233  0.620915   \n",
              "801  0.340014  0.460411  0.453129  ...  0.616260  0.606680  0.606984   \n",
              "802  0.398700  0.474281  0.474408  ...  0.593472  0.587798  0.607606   \n",
              "\n",
              "          929       930       931       932       933       934       935  \n",
              "0    0.556215  0.563540  0.482250  0.486530  0.487370  0.456441  0.445981  \n",
              "1    0.647577  0.648883  0.484734  0.493071  0.500421  0.457532  0.451076  \n",
              "2    0.618466  0.623118  0.549823  0.545117  0.542222  0.611641  0.615110  \n",
              "3    0.573747  0.579145  0.499827  0.501065  0.500774  0.501750  0.495284  \n",
              "4    0.615452  0.619419  0.501407  0.505033  0.507288  0.491784  0.485913  \n",
              "..        ...       ...       ...       ...       ...       ...       ...  \n",
              "798  0.614969  0.619246  0.480625  0.486155  0.490317  0.458248  0.447682  \n",
              "799  0.624668  0.628638  0.491575  0.497130  0.501123  0.477267  0.471925  \n",
              "800  0.621776  0.624072  0.494327  0.499403  0.503776  0.482127  0.475065  \n",
              "801  0.620060  0.622965  0.466255  0.475640  0.482309  0.430147  0.422762  \n",
              "802  0.593722  0.600085  0.480189  0.484886  0.487646  0.478905  0.469099  \n",
              "\n",
              "[803 rows x 936 columns]"
            ]
          },
          "execution_count": 70,
          "metadata": {},
          "output_type": "execute_result"
        }
      ],
      "source": [
        "data"
      ]
    },
    {
      "cell_type": "code",
      "execution_count": null,
      "metadata": {
        "colab": {
          "background_save": true
        },
        "id": "vzpwWVpZ455a"
      },
      "outputs": [],
      "source": [
        "def draw_axis(image, pitch,yaw,roll, tdx=None, tdy=None, size = 100):\n",
        "    img=cv2.imread(FOLDER_PATH +'/'+ image_name +'.jpg')\n",
        "    pitch = pitch * np.pi / 180\n",
        "    yaw = -(yaw * np.pi / 180)\n",
        "    roll = roll * np.pi / 180\n",
        "    yaw = -yaw\n",
        "    if tdx != None and tdy != None:\n",
        "        tdx = tdx\n",
        "        tdy = tdy\n",
        "    else:\n",
        "        height, width = img.shape[:2]\n",
        "        tdx = width / 2\n",
        "        tdy = height / 2\n",
        "\n",
        "    # X-Axis pointing to right. drawn in red\n",
        "    x1 = size * (cos(yaw) * cos(roll)) + tdx\n",
        "    y1 = size * (cos(pitch) * sin(roll) + cos(roll) * sin(pitch) * sin(yaw)) + tdy\n",
        "\n",
        "    # Y-Axis | drawn in green\n",
        "    #        v\n",
        "    x2 = size * (-cos(yaw) * sin(roll)) + tdx\n",
        "    y2 = size * (cos(pitch) * cos(roll) - sin(pitch) * sin(yaw) * sin(roll)) + tdy\n",
        "\n",
        "    # Z-Axis (out of the screen) drawn in blue\n",
        "    x3 = size * (sin(yaw)) + tdx\n",
        "    y3 = size * (-cos(yaw) * sin(pitch)) + tdy\n",
        "\n",
        "    cv2.line(img, (int(tdx), int(tdy)), (int(x1),int(y1)),(0,0,255),3)\n",
        "    cv2.line(img, (int(tdx), int(tdy)), (int(x2),int(y2)),(0,255,0),3)\n",
        "    cv2.line(img, (int(tdx), int(tdy)), (int(x3),int(y3)),(255,0,0),2)\n",
        "\n",
        "    return img"
      ]
    },
    {
      "cell_type": "code",
      "execution_count": null,
      "metadata": {
        "colab": {
          "base_uri": "https://localhost:8080/",
          "height": 467
        },
        "id": "0U2WMAn2b7X-",
        "outputId": "a267c2b2-e1d1-4650-d910-344b494f97bd"
      },
      "outputs": [
        {
          "data": {
            "image/png": "[encoded data removed]",
            "text/plain": [
              "<PIL.Image.Image image mode=RGB size=450x450 at 0x7F0B82C98190>"
            ]
          },
          "metadata": {},
          "output_type": "display_data"
        }
      ],
      "source": [
        "#test unit\n",
        "image=\"image00002\"\n",
        "\n",
        "pitch,yaw,roll=get_ypr_from_mat(image)\n",
        "cv2_imshow(draw_axis(image, pitch,yaw,roll))"
      ]
    },
    {
      "cell_type": "code",
      "execution_count": null,
      "metadata": {
        "id": "h2yjSeJVyL8M"
      },
      "outputs": [],
      "source": [
        "def x(img, yaw, pitch, roll):\n",
        "  # image = FOLDER_PATH +'/'+ img +'.jpg'\n",
        "  frame = cv2.imread(img)\n",
        "  cv2_frame = cv2.cvtColor(frame,cv2.COLOR_BGR2RGB)\n",
        "  dets = cnn_face_detector(cv2_frame, 1)\n",
        "  for (idx, det) in enumerate(dets):\n",
        "              # Get x_min, y_min, x_max, y_max, conf\n",
        "              x_min = det.left()\n",
        "              y_min = det.top()\n",
        "              x_max = det.right()-x_min\n",
        "              y_max = det.bottom()-y_min\n",
        "              # conf = det.confidence\n",
        "              # print(det)\n",
        "\n",
        "              shape = predictor(cv2_frame, det)\n",
        "              tdx,tdy=shape.part(30).x, shape.part(30).y\n",
        "              bbox_height, bbox_width = frame.shape[:2]\n",
        "            \n",
        "              cv2.destroyAllWindows()\n",
        "              # cv2_imshow(draw_axis(img,-5.620685,-4.7939262 ,2.5846152,tdx,tdy)\n",
        "              cv2_imshow(draw_axis(img,yaw, pitch , roll,tdx,tdy))\n",
        "              \n",
        "  cv2.destroyAllWindows()"
      ]
    },
    {
      "cell_type": "markdown",
      "metadata": {
        "id": "Vw4LXkoZTSIu"
      },
      "source": [
        "preprocess"
      ]
    },
    {
      "cell_type": "code",
      "execution_count": null,
      "metadata": {
        "colab": {
          "base_uri": "https://localhost:8080/"
        },
        "id": "N6o8f5QOTT8i",
        "outputId": "735669f9-ba2f-4669-bd8d-9e486138d851"
      },
      "outputs": [
        {
          "name": "stdout",
          "output_type": "stream",
          "text": [
            "(803, 468)\n",
            "(803, 468)\n",
            "(803, 936)\n"
          ]
        }
      ],
      "source": [
        "X=data.iloc[:,:468]\n",
        "Y=data.iloc[:,468:936]\n",
        "Xpoints=np.array(X)\n",
        "Ypoints=np.array(Y)\n",
        "# center 99\n",
        "# max = 10\n",
        "# min = 171\n",
        "# centering the data arround the 99th point \n",
        "Center_X = Xpoints - Xpoints[:,99].reshape(-1,1)\n",
        "Center_Y = Ypoints - Ypoints[:,99].reshape(-1,1)\n",
        "# normalizing the data to be in the same scale by dividing over the distance between point 10 and point 171\n",
        "X_171 = Xpoints[:,171]\n",
        "X_10 = Xpoints[:,10]\n",
        "Y_171 = Ypoints[:,171]\n",
        "Y_10 = Ypoints[:,10]\n",
        "# computing the distance\n",
        "distance = np.linalg.norm(np.array((X_10,Y_10)) - np.array((X_171,Y_171)),axis = 0).reshape(-1,1)\n",
        "Norm_X = Center_X / distance\n",
        "Norm_Y = Center_Y / distance\n",
        "\n",
        "# if you want to choose specific columns from the data\n",
        "Final_X = Norm_X\n",
        "Final_Y = Norm_Y\n",
        "\n",
        "print(Final_X.shape)\n",
        "print(Final_Y.shape)\n",
        "\n",
        "# concatinating the X and Y points to form the compelete features\n",
        "features = np.hstack([Final_X,Final_Y])\n",
        "print(features.shape)"
      ]
    },
    {
      "cell_type": "code",
      "execution_count": null,
      "metadata": {
        "id": "Pb_Uw5fKbPOU"
      },
      "outputs": [],
      "source": [
        "features=pd.DataFrame(features)"
      ]
    },
    {
      "cell_type": "code",
      "execution_count": null,
      "metadata": {
        "colab": {
          "base_uri": "https://localhost:8080/",
          "height": 488
        },
        "id": "Qcbo9silbVci",
        "outputId": "eabb2b5f-0442-483b-dbba-23cae3375d57"
      },
      "outputs": [
        {
          "data": {
            "text/html": [
              "\n",
              "  <div id=\"df-582e05a3-2f1b-4107-8d0d-f8e274d0f223\">\n",
              "    <div class=\"colab-df-container\">\n",
              "      <div>\n",
              "<style scoped>\n",
              "    .dataframe tbody tr th:only-of-type {\n",
              "        vertical-align: middle;\n",
              "    }\n",
              "\n",
              "    .dataframe tbody tr th {\n",
              "        vertical-align: top;\n",
              "    }\n",
              "\n",
              "    .dataframe thead th {\n",
              "        text-align: right;\n",
              "    }\n",
              "</style>\n",
              "<table border=\"1\" class=\"dataframe\">\n",
              "  <thead>\n",
              "    <tr style=\"text-align: right;\">\n",
              "      <th></th>\n",
              "      <th>0</th>\n",
              "      <th>1</th>\n",
              "      <th>2</th>\n",
              "      <th>3</th>\n",
              "      <th>4</th>\n",
              "      <th>5</th>\n",
              "      <th>6</th>\n",
              "      <th>7</th>\n",
              "      <th>8</th>\n",
              "      <th>9</th>\n",
              "      <th>...</th>\n",
              "      <th>926</th>\n",
              "      <th>927</th>\n",
              "      <th>928</th>\n",
              "      <th>929</th>\n",
              "      <th>930</th>\n",
              "      <th>931</th>\n",
              "      <th>932</th>\n",
              "      <th>933</th>\n",
              "      <th>934</th>\n",
              "      <th>935</th>\n",
              "    </tr>\n",
              "  </thead>\n",
              "  <tbody>\n",
              "    <tr>\n",
              "      <th>0</th>\n",
              "      <td>0.087793</td>\n",
              "      <td>0.045949</td>\n",
              "      <td>0.066285</td>\n",
              "      <td>-0.015783</td>\n",
              "      <td>0.036417</td>\n",
              "      <td>0.027074</td>\n",
              "      <td>0.007598</td>\n",
              "      <td>-0.312210</td>\n",
              "      <td>-0.011276</td>\n",
              "      <td>-0.023912</td>\n",
              "      <td>...</td>\n",
              "      <td>-0.064620</td>\n",
              "      <td>-0.084367</td>\n",
              "      <td>-0.048628</td>\n",
              "      <td>-0.063149</td>\n",
              "      <td>-0.045469</td>\n",
              "      <td>-0.241661</td>\n",
              "      <td>-0.231332</td>\n",
              "      <td>-0.229303</td>\n",
              "      <td>-0.303950</td>\n",
              "      <td>-0.329196</td>\n",
              "    </tr>\n",
              "    <tr>\n",
              "      <th>1</th>\n",
              "      <td>0.060336</td>\n",
              "      <td>0.057263</td>\n",
              "      <td>0.054858</td>\n",
              "      <td>0.017126</td>\n",
              "      <td>0.056523</td>\n",
              "      <td>0.053293</td>\n",
              "      <td>0.043425</td>\n",
              "      <td>-0.239718</td>\n",
              "      <td>0.039521</td>\n",
              "      <td>0.038987</td>\n",
              "      <td>...</td>\n",
              "      <td>-0.011499</td>\n",
              "      <td>-0.025863</td>\n",
              "      <td>-0.025671</td>\n",
              "      <td>-0.004685</td>\n",
              "      <td>-0.002232</td>\n",
              "      <td>-0.310495</td>\n",
              "      <td>-0.294838</td>\n",
              "      <td>-0.281036</td>\n",
              "      <td>-0.361579</td>\n",
              "      <td>-0.373703</td>\n",
              "    </tr>\n",
              "    <tr>\n",
              "      <th>2</th>\n",
              "      <td>-0.023072</td>\n",
              "      <td>0.043914</td>\n",
              "      <td>0.038515</td>\n",
              "      <td>0.123166</td>\n",
              "      <td>0.069022</td>\n",
              "      <td>0.111915</td>\n",
              "      <td>0.226907</td>\n",
              "      <td>0.057875</td>\n",
              "      <td>0.297229</td>\n",
              "      <td>0.328902</td>\n",
              "      <td>...</td>\n",
              "      <td>0.042345</td>\n",
              "      <td>0.046340</td>\n",
              "      <td>0.109722</td>\n",
              "      <td>0.038500</td>\n",
              "      <td>0.047459</td>\n",
              "      <td>-0.093678</td>\n",
              "      <td>-0.102740</td>\n",
              "      <td>-0.108316</td>\n",
              "      <td>0.025359</td>\n",
              "      <td>0.032038</td>\n",
              "    </tr>\n",
              "    <tr>\n",
              "      <th>3</th>\n",
              "      <td>0.053594</td>\n",
              "      <td>0.100161</td>\n",
              "      <td>0.060102</td>\n",
              "      <td>0.041735</td>\n",
              "      <td>0.103376</td>\n",
              "      <td>0.091632</td>\n",
              "      <td>0.050689</td>\n",
              "      <td>-0.294463</td>\n",
              "      <td>0.040354</td>\n",
              "      <td>0.043078</td>\n",
              "      <td>...</td>\n",
              "      <td>-0.022686</td>\n",
              "      <td>-0.034469</td>\n",
              "      <td>0.008851</td>\n",
              "      <td>-0.021942</td>\n",
              "      <td>-0.008346</td>\n",
              "      <td>-0.208125</td>\n",
              "      <td>-0.205007</td>\n",
              "      <td>-0.205739</td>\n",
              "      <td>-0.203281</td>\n",
              "      <td>-0.219567</td>\n",
              "    </tr>\n",
              "    <tr>\n",
              "      <th>4</th>\n",
              "      <td>0.040916</td>\n",
              "      <td>0.050863</td>\n",
              "      <td>0.045881</td>\n",
              "      <td>0.023894</td>\n",
              "      <td>0.052710</td>\n",
              "      <td>0.053884</td>\n",
              "      <td>0.055844</td>\n",
              "      <td>-0.216191</td>\n",
              "      <td>0.058191</td>\n",
              "      <td>0.060507</td>\n",
              "      <td>...</td>\n",
              "      <td>-0.013883</td>\n",
              "      <td>-0.025327</td>\n",
              "      <td>0.000273</td>\n",
              "      <td>-0.010720</td>\n",
              "      <td>-0.002593</td>\n",
              "      <td>-0.244385</td>\n",
              "      <td>-0.236955</td>\n",
              "      <td>-0.232335</td>\n",
              "      <td>-0.264102</td>\n",
              "      <td>-0.276130</td>\n",
              "    </tr>\n",
              "    <tr>\n",
              "      <th>...</th>\n",
              "      <td>...</td>\n",
              "      <td>...</td>\n",
              "      <td>...</td>\n",
              "      <td>...</td>\n",
              "      <td>...</td>\n",
              "      <td>...</td>\n",
              "      <td>...</td>\n",
              "      <td>...</td>\n",
              "      <td>...</td>\n",
              "      <td>...</td>\n",
              "      <td>...</td>\n",
              "      <td>...</td>\n",
              "      <td>...</td>\n",
              "      <td>...</td>\n",
              "      <td>...</td>\n",
              "      <td>...</td>\n",
              "      <td>...</td>\n",
              "      <td>...</td>\n",
              "      <td>...</td>\n",
              "      <td>...</td>\n",
              "      <td>...</td>\n",
              "    </tr>\n",
              "    <tr>\n",
              "      <th>798</th>\n",
              "      <td>0.054590</td>\n",
              "      <td>0.000668</td>\n",
              "      <td>0.040880</td>\n",
              "      <td>-0.011287</td>\n",
              "      <td>-0.005225</td>\n",
              "      <td>0.001920</td>\n",
              "      <td>0.032101</td>\n",
              "      <td>-0.156599</td>\n",
              "      <td>0.034071</td>\n",
              "      <td>0.026903</td>\n",
              "      <td>...</td>\n",
              "      <td>-0.018284</td>\n",
              "      <td>-0.031961</td>\n",
              "      <td>-0.016431</td>\n",
              "      <td>-0.014913</td>\n",
              "      <td>-0.006682</td>\n",
              "      <td>-0.273453</td>\n",
              "      <td>-0.262809</td>\n",
              "      <td>-0.254800</td>\n",
              "      <td>-0.316517</td>\n",
              "      <td>-0.336850</td>\n",
              "    </tr>\n",
              "    <tr>\n",
              "      <th>799</th>\n",
              "      <td>0.045071</td>\n",
              "      <td>0.088260</td>\n",
              "      <td>0.050117</td>\n",
              "      <td>0.036151</td>\n",
              "      <td>0.092507</td>\n",
              "      <td>0.082709</td>\n",
              "      <td>0.044415</td>\n",
              "      <td>-0.285698</td>\n",
              "      <td>0.034816</td>\n",
              "      <td>0.038655</td>\n",
              "      <td>...</td>\n",
              "      <td>-0.019570</td>\n",
              "      <td>-0.032413</td>\n",
              "      <td>-0.010854</td>\n",
              "      <td>-0.015425</td>\n",
              "      <td>-0.007748</td>\n",
              "      <td>-0.272809</td>\n",
              "      <td>-0.262065</td>\n",
              "      <td>-0.254345</td>\n",
              "      <td>-0.300478</td>\n",
              "      <td>-0.310808</td>\n",
              "    </tr>\n",
              "    <tr>\n",
              "      <th>800</th>\n",
              "      <td>0.047378</td>\n",
              "      <td>0.030192</td>\n",
              "      <td>0.045933</td>\n",
              "      <td>0.009336</td>\n",
              "      <td>0.028504</td>\n",
              "      <td>0.033096</td>\n",
              "      <td>0.051146</td>\n",
              "      <td>-0.196611</td>\n",
              "      <td>0.056250</td>\n",
              "      <td>0.054807</td>\n",
              "      <td>...</td>\n",
              "      <td>-0.009634</td>\n",
              "      <td>-0.021433</td>\n",
              "      <td>-0.006940</td>\n",
              "      <td>-0.005073</td>\n",
              "      <td>-0.000093</td>\n",
              "      <td>-0.281499</td>\n",
              "      <td>-0.270489</td>\n",
              "      <td>-0.261006</td>\n",
              "      <td>-0.307961</td>\n",
              "      <td>-0.323277</td>\n",
              "    </tr>\n",
              "    <tr>\n",
              "      <th>801</th>\n",
              "      <td>0.088071</td>\n",
              "      <td>0.036135</td>\n",
              "      <td>0.060359</td>\n",
              "      <td>-0.027713</td>\n",
              "      <td>0.023086</td>\n",
              "      <td>0.011170</td>\n",
              "      <td>-0.010811</td>\n",
              "      <td>-0.270018</td>\n",
              "      <td>-0.032575</td>\n",
              "      <td>-0.046936</td>\n",
              "      <td>...</td>\n",
              "      <td>-0.036208</td>\n",
              "      <td>-0.055100</td>\n",
              "      <td>-0.054502</td>\n",
              "      <td>-0.028713</td>\n",
              "      <td>-0.022984</td>\n",
              "      <td>-0.332041</td>\n",
              "      <td>-0.313532</td>\n",
              "      <td>-0.300381</td>\n",
              "      <td>-0.403251</td>\n",
              "      <td>-0.417815</td>\n",
              "    </tr>\n",
              "    <tr>\n",
              "      <th>802</th>\n",
              "      <td>0.027997</td>\n",
              "      <td>-0.023341</td>\n",
              "      <td>0.038233</td>\n",
              "      <td>0.009300</td>\n",
              "      <td>-0.023504</td>\n",
              "      <td>0.002581</td>\n",
              "      <td>0.087194</td>\n",
              "      <td>-0.039907</td>\n",
              "      <td>0.116484</td>\n",
              "      <td>0.116747</td>\n",
              "      <td>...</td>\n",
              "      <td>-0.018008</td>\n",
              "      <td>-0.029750</td>\n",
              "      <td>0.011237</td>\n",
              "      <td>-0.017492</td>\n",
              "      <td>-0.004324</td>\n",
              "      <td>-0.252414</td>\n",
              "      <td>-0.242696</td>\n",
              "      <td>-0.236983</td>\n",
              "      <td>-0.255071</td>\n",
              "      <td>-0.275362</td>\n",
              "    </tr>\n",
              "  </tbody>\n",
              "</table>\n",
              "<p>803 rows × 936 columns</p>\n",
              "</div>\n",
              "      <button class=\"colab-df-convert\" onclick=\"convertToInteractive('df-582e05a3-2f1b-4107-8d0d-f8e274d0f223')\"\n",
              "              title=\"Convert this dataframe to an interactive table.\"\n",
              "              style=\"display:none;\">\n",
              "        \n",
              "  <svg xmlns=\"http://www.w3.org/2000/svg\" height=\"24px\"viewBox=\"0 0 24 24\"\n",
              "       width=\"24px\">\n",
              "    <path d=\"M0 0h24v24H0V0z\" fill=\"none\"/>\n",
              "    <path d=\"M18.56 5.44l.94 2.06.94-2.06 2.06-.94-2.06-.94-.94-2.06-.94 2.06-2.06.94zm-11 1L8.5 8.5l.94-2.06 2.06-.94-2.06-.94L8.5 2.5l-.94 2.06-2.06.94zm10 10l.94 2.06.94-2.06 2.06-.94-2.06-.94-.94-2.06-.94 2.06-2.06.94z\"/><path d=\"M17.41 7.96l-1.37-1.37c-.4-.4-.92-.59-1.43-.59-.52 0-1.04.2-1.43.59L10.3 9.45l-7.72 7.72c-.78.78-.78 2.05 0 2.83L4 21.41c.39.39.9.59 1.41.59.51 0 1.02-.2 1.41-.59l7.78-7.78 2.81-2.81c.8-.78.8-2.07 0-2.86zM5.41 20L4 18.59l7.72-7.72 1.47 1.35L5.41 20z\"/>\n",
              "  </svg>\n",
              "      </button>\n",
              "      \n",
              "  <style>\n",
              "    .colab-df-container {\n",
              "      display:flex;\n",
              "      flex-wrap:wrap;\n",
              "      gap: 12px;\n",
              "    }\n",
              "\n",
              "    .colab-df-convert {\n",
              "      background-color: #E8F0FE;\n",
              "      border: none;\n",
              "      border-radius: 50%;\n",
              "      cursor: pointer;\n",
              "      display: none;\n",
              "      fill: #1967D2;\n",
              "      height: 32px;\n",
              "      padding: 0 0 0 0;\n",
              "      width: 32px;\n",
              "    }\n",
              "\n",
              "    .colab-df-convert:hover {\n",
              "      background-color: #E2EBFA;\n",
              "      box-shadow: 0px 1px 2px rgba(60, 64, 67, 0.3), 0px 1px 3px 1px rgba(60, 64, 67, 0.15);\n",
              "      fill: #174EA6;\n",
              "    }\n",
              "\n",
              "    [theme=dark] .colab-df-convert {\n",
              "      background-color: #3B4455;\n",
              "      fill: #D2E3FC;\n",
              "    }\n",
              "\n",
              "    [theme=dark] .colab-df-convert:hover {\n",
              "      background-color: #434B5C;\n",
              "      box-shadow: 0px 1px 3px 1px rgba(0, 0, 0, 0.15);\n",
              "      filter: drop-shadow(0px 1px 2px rgba(0, 0, 0, 0.3));\n",
              "      fill: #FFFFFF;\n",
              "    }\n",
              "  </style>\n",
              "\n",
              "      <script>\n",
              "        const buttonEl =\n",
              "          document.querySelector('#df-582e05a3-2f1b-4107-8d0d-f8e274d0f223 button.colab-df-convert');\n",
              "        buttonEl.style.display =\n",
              "          google.colab.kernel.accessAllowed ? 'block' : 'none';\n",
              "\n",
              "        async function convertToInteractive(key) {\n",
              "          const element = document.querySelector('#df-582e05a3-2f1b-4107-8d0d-f8e274d0f223');\n",
              "          const dataTable =\n",
              "            await google.colab.kernel.invokeFunction('convertToInteractive',\n",
              "                                                     [key], {});\n",
              "          if (!dataTable) return;\n",
              "\n",
              "          const docLinkHtml = 'Like what you see? Visit the ' +\n",
              "            '<a target=\"_blank\" href=https://colab.research.google.com/notebooks/data_table.ipynb>data table notebook</a>'\n",
              "            + ' to learn more about interactive tables.';\n",
              "          element.innerHTML = '';\n",
              "          dataTable['output_type'] = 'display_data';\n",
              "          await google.colab.output.renderOutput(dataTable, element);\n",
              "          const docLink = document.createElement('div');\n",
              "          docLink.innerHTML = docLinkHtml;\n",
              "          element.appendChild(docLink);\n",
              "        }\n",
              "      </script>\n",
              "    </div>\n",
              "  </div>\n",
              "  "
            ],
            "text/plain": [
              "          0         1         2         3         4         5         6    \\\n",
              "0    0.087793  0.045949  0.066285 -0.015783  0.036417  0.027074  0.007598   \n",
              "1    0.060336  0.057263  0.054858  0.017126  0.056523  0.053293  0.043425   \n",
              "2   -0.023072  0.043914  0.038515  0.123166  0.069022  0.111915  0.226907   \n",
              "3    0.053594  0.100161  0.060102  0.041735  0.103376  0.091632  0.050689   \n",
              "4    0.040916  0.050863  0.045881  0.023894  0.052710  0.053884  0.055844   \n",
              "..        ...       ...       ...       ...       ...       ...       ...   \n",
              "798  0.054590  0.000668  0.040880 -0.011287 -0.005225  0.001920  0.032101   \n",
              "799  0.045071  0.088260  0.050117  0.036151  0.092507  0.082709  0.044415   \n",
              "800  0.047378  0.030192  0.045933  0.009336  0.028504  0.033096  0.051146   \n",
              "801  0.088071  0.036135  0.060359 -0.027713  0.023086  0.011170 -0.010811   \n",
              "802  0.027997 -0.023341  0.038233  0.009300 -0.023504  0.002581  0.087194   \n",
              "\n",
              "          7         8         9    ...       926       927       928  \\\n",
              "0   -0.312210 -0.011276 -0.023912  ... -0.064620 -0.084367 -0.048628   \n",
              "1   -0.239718  0.039521  0.038987  ... -0.011499 -0.025863 -0.025671   \n",
              "2    0.057875  0.297229  0.328902  ...  0.042345  0.046340  0.109722   \n",
              "3   -0.294463  0.040354  0.043078  ... -0.022686 -0.034469  0.008851   \n",
              "4   -0.216191  0.058191  0.060507  ... -0.013883 -0.025327  0.000273   \n",
              "..        ...       ...       ...  ...       ...       ...       ...   \n",
              "798 -0.156599  0.034071  0.026903  ... -0.018284 -0.031961 -0.016431   \n",
              "799 -0.285698  0.034816  0.038655  ... -0.019570 -0.032413 -0.010854   \n",
              "800 -0.196611  0.056250  0.054807  ... -0.009634 -0.021433 -0.006940   \n",
              "801 -0.270018 -0.032575 -0.046936  ... -0.036208 -0.055100 -0.054502   \n",
              "802 -0.039907  0.116484  0.116747  ... -0.018008 -0.029750  0.011237   \n",
              "\n",
              "          929       930       931       932       933       934       935  \n",
              "0   -0.063149 -0.045469 -0.241661 -0.231332 -0.229303 -0.303950 -0.329196  \n",
              "1   -0.004685 -0.002232 -0.310495 -0.294838 -0.281036 -0.361579 -0.373703  \n",
              "2    0.038500  0.047459 -0.093678 -0.102740 -0.108316  0.025359  0.032038  \n",
              "3   -0.021942 -0.008346 -0.208125 -0.205007 -0.205739 -0.203281 -0.219567  \n",
              "4   -0.010720 -0.002593 -0.244385 -0.236955 -0.232335 -0.264102 -0.276130  \n",
              "..        ...       ...       ...       ...       ...       ...       ...  \n",
              "798 -0.014913 -0.006682 -0.273453 -0.262809 -0.254800 -0.316517 -0.336850  \n",
              "799 -0.015425 -0.007748 -0.272809 -0.262065 -0.254345 -0.300478 -0.310808  \n",
              "800 -0.005073 -0.000093 -0.281499 -0.270489 -0.261006 -0.307961 -0.323277  \n",
              "801 -0.028713 -0.022984 -0.332041 -0.313532 -0.300381 -0.403251 -0.417815  \n",
              "802 -0.017492 -0.004324 -0.252414 -0.242696 -0.236983 -0.255071 -0.275362  \n",
              "\n",
              "[803 rows x 936 columns]"
            ]
          },
          "execution_count": 79,
          "metadata": {},
          "output_type": "execute_result"
        }
      ],
      "source": [
        "features"
      ]
    },
    {
      "cell_type": "code",
      "execution_count": null,
      "metadata": {
        "id": "y96f8wbna8ay"
      },
      "outputs": [],
      "source": [
        "#get labels"
      ]
    },
    {
      "cell_type": "code",
      "execution_count": null,
      "metadata": {
        "colab": {
          "base_uri": "https://localhost:8080/"
        },
        "id": "_pIyOlYSa32e",
        "outputId": "b7f6e7a4-b861-40f5-9a8c-1e5e918d323b"
      },
      "outputs": [
        {
          "data": {
            "text/plain": [
              "Index(['pitch', 'yaw', 'roll'], dtype='object')"
            ]
          },
          "execution_count": 81,
          "metadata": {},
          "output_type": "execute_result"
        }
      ],
      "source": [
        "df2.columns"
      ]
    },
    {
      "cell_type": "code",
      "execution_count": null,
      "metadata": {
        "id": "wewTN6s5aUPh"
      },
      "outputs": [],
      "source": [
        "pitch_label=df2['pitch']\n",
        "roll_label=df2.roll\n",
        "yaw_label=df2.yaw"
      ]
    },
    {
      "cell_type": "code",
      "execution_count": null,
      "metadata": {
        "id": "9kr3UKBJbtnB"
      },
      "outputs": [],
      "source": [
        "# splitting the data\n",
        "from sklearn.model_selection import train_test_split\n",
        "X_train,xtest,Y_train,ytest= train_test_split(features,df2,test_size = 0.2,random_state = 20)\n"
      ]
    },
    {
      "cell_type": "code",
      "execution_count": null,
      "metadata": {
        "colab": {
          "base_uri": "https://localhost:8080/",
          "height": 424
        },
        "id": "s34EeH4nP3ye",
        "outputId": "58531e4d-e121-4288-98f3-64efe2a5d7df"
      },
      "outputs": [
        {
          "data": {
            "text/html": [
              "\n",
              "  <div id=\"df-dc234179-ac4b-458b-bc46-69d09859343f\">\n",
              "    <div class=\"colab-df-container\">\n",
              "      <div>\n",
              "<style scoped>\n",
              "    .dataframe tbody tr th:only-of-type {\n",
              "        vertical-align: middle;\n",
              "    }\n",
              "\n",
              "    .dataframe tbody tr th {\n",
              "        vertical-align: top;\n",
              "    }\n",
              "\n",
              "    .dataframe thead th {\n",
              "        text-align: right;\n",
              "    }\n",
              "</style>\n",
              "<table border=\"1\" class=\"dataframe\">\n",
              "  <thead>\n",
              "    <tr style=\"text-align: right;\">\n",
              "      <th></th>\n",
              "      <th>pitch</th>\n",
              "      <th>yaw</th>\n",
              "      <th>roll</th>\n",
              "    </tr>\n",
              "  </thead>\n",
              "  <tbody>\n",
              "    <tr>\n",
              "      <th>211</th>\n",
              "      <td>4.629941</td>\n",
              "      <td>2.199407</td>\n",
              "      <td>5.165538</td>\n",
              "    </tr>\n",
              "    <tr>\n",
              "      <th>710</th>\n",
              "      <td>11.891141</td>\n",
              "      <td>21.201511</td>\n",
              "      <td>19.854633</td>\n",
              "    </tr>\n",
              "    <tr>\n",
              "      <th>225</th>\n",
              "      <td>-2.062296</td>\n",
              "      <td>-14.880998</td>\n",
              "      <td>-9.146642</td>\n",
              "    </tr>\n",
              "    <tr>\n",
              "      <th>191</th>\n",
              "      <td>1.217928</td>\n",
              "      <td>28.295897</td>\n",
              "      <td>22.666647</td>\n",
              "    </tr>\n",
              "    <tr>\n",
              "      <th>57</th>\n",
              "      <td>-5.831797</td>\n",
              "      <td>-15.282483</td>\n",
              "      <td>-3.431248</td>\n",
              "    </tr>\n",
              "    <tr>\n",
              "      <th>...</th>\n",
              "      <td>...</td>\n",
              "      <td>...</td>\n",
              "      <td>...</td>\n",
              "    </tr>\n",
              "    <tr>\n",
              "      <th>218</th>\n",
              "      <td>-7.534944</td>\n",
              "      <td>30.601194</td>\n",
              "      <td>-3.852012</td>\n",
              "    </tr>\n",
              "    <tr>\n",
              "      <th>223</th>\n",
              "      <td>-14.870719</td>\n",
              "      <td>-54.676044</td>\n",
              "      <td>11.755539</td>\n",
              "    </tr>\n",
              "    <tr>\n",
              "      <th>271</th>\n",
              "      <td>-5.892953</td>\n",
              "      <td>-27.881733</td>\n",
              "      <td>-15.286851</td>\n",
              "    </tr>\n",
              "    <tr>\n",
              "      <th>474</th>\n",
              "      <td>-75.027860</td>\n",
              "      <td>55.707153</td>\n",
              "      <td>-111.439670</td>\n",
              "    </tr>\n",
              "    <tr>\n",
              "      <th>355</th>\n",
              "      <td>1.344151</td>\n",
              "      <td>7.600220</td>\n",
              "      <td>-8.767895</td>\n",
              "    </tr>\n",
              "  </tbody>\n",
              "</table>\n",
              "<p>642 rows × 3 columns</p>\n",
              "</div>\n",
              "      <button class=\"colab-df-convert\" onclick=\"convertToInteractive('df-dc234179-ac4b-458b-bc46-69d09859343f')\"\n",
              "              title=\"Convert this dataframe to an interactive table.\"\n",
              "              style=\"display:none;\">\n",
              "        \n",
              "  <svg xmlns=\"http://www.w3.org/2000/svg\" height=\"24px\"viewBox=\"0 0 24 24\"\n",
              "       width=\"24px\">\n",
              "    <path d=\"M0 0h24v24H0V0z\" fill=\"none\"/>\n",
              "    <path d=\"M18.56 5.44l.94 2.06.94-2.06 2.06-.94-2.06-.94-.94-2.06-.94 2.06-2.06.94zm-11 1L8.5 8.5l.94-2.06 2.06-.94-2.06-.94L8.5 2.5l-.94 2.06-2.06.94zm10 10l.94 2.06.94-2.06 2.06-.94-2.06-.94-.94-2.06-.94 2.06-2.06.94z\"/><path d=\"M17.41 7.96l-1.37-1.37c-.4-.4-.92-.59-1.43-.59-.52 0-1.04.2-1.43.59L10.3 9.45l-7.72 7.72c-.78.78-.78 2.05 0 2.83L4 21.41c.39.39.9.59 1.41.59.51 0 1.02-.2 1.41-.59l7.78-7.78 2.81-2.81c.8-.78.8-2.07 0-2.86zM5.41 20L4 18.59l7.72-7.72 1.47 1.35L5.41 20z\"/>\n",
              "  </svg>\n",
              "      </button>\n",
              "      \n",
              "  <style>\n",
              "    .colab-df-container {\n",
              "      display:flex;\n",
              "      flex-wrap:wrap;\n",
              "      gap: 12px;\n",
              "    }\n",
              "\n",
              "    .colab-df-convert {\n",
              "      background-color: #E8F0FE;\n",
              "      border: none;\n",
              "      border-radius: 50%;\n",
              "      cursor: pointer;\n",
              "      display: none;\n",
              "      fill: #1967D2;\n",
              "      height: 32px;\n",
              "      padding: 0 0 0 0;\n",
              "      width: 32px;\n",
              "    }\n",
              "\n",
              "    .colab-df-convert:hover {\n",
              "      background-color: #E2EBFA;\n",
              "      box-shadow: 0px 1px 2px rgba(60, 64, 67, 0.3), 0px 1px 3px 1px rgba(60, 64, 67, 0.15);\n",
              "      fill: #174EA6;\n",
              "    }\n",
              "\n",
              "    [theme=dark] .colab-df-convert {\n",
              "      background-color: #3B4455;\n",
              "      fill: #D2E3FC;\n",
              "    }\n",
              "\n",
              "    [theme=dark] .colab-df-convert:hover {\n",
              "      background-color: #434B5C;\n",
              "      box-shadow: 0px 1px 3px 1px rgba(0, 0, 0, 0.15);\n",
              "      filter: drop-shadow(0px 1px 2px rgba(0, 0, 0, 0.3));\n",
              "      fill: #FFFFFF;\n",
              "    }\n",
              "  </style>\n",
              "\n",
              "      <script>\n",
              "        const buttonEl =\n",
              "          document.querySelector('#df-dc234179-ac4b-458b-bc46-69d09859343f button.colab-df-convert');\n",
              "        buttonEl.style.display =\n",
              "          google.colab.kernel.accessAllowed ? 'block' : 'none';\n",
              "\n",
              "        async function convertToInteractive(key) {\n",
              "          const element = document.querySelector('#df-dc234179-ac4b-458b-bc46-69d09859343f');\n",
              "          const dataTable =\n",
              "            await google.colab.kernel.invokeFunction('convertToInteractive',\n",
              "                                                     [key], {});\n",
              "          if (!dataTable) return;\n",
              "\n",
              "          const docLinkHtml = 'Like what you see? Visit the ' +\n",
              "            '<a target=\"_blank\" href=https://colab.research.google.com/notebooks/data_table.ipynb>data table notebook</a>'\n",
              "            + ' to learn more about interactive tables.';\n",
              "          element.innerHTML = '';\n",
              "          dataTable['output_type'] = 'display_data';\n",
              "          await google.colab.output.renderOutput(dataTable, element);\n",
              "          const docLink = document.createElement('div');\n",
              "          docLink.innerHTML = docLinkHtml;\n",
              "          element.appendChild(docLink);\n",
              "        }\n",
              "      </script>\n",
              "    </div>\n",
              "  </div>\n",
              "  "
            ],
            "text/plain": [
              "         pitch        yaw        roll\n",
              "211   4.629941   2.199407    5.165538\n",
              "710  11.891141  21.201511   19.854633\n",
              "225  -2.062296 -14.880998   -9.146642\n",
              "191   1.217928  28.295897   22.666647\n",
              "57   -5.831797 -15.282483   -3.431248\n",
              "..         ...        ...         ...\n",
              "218  -7.534944  30.601194   -3.852012\n",
              "223 -14.870719 -54.676044   11.755539\n",
              "271  -5.892953 -27.881733  -15.286851\n",
              "474 -75.027860  55.707153 -111.439670\n",
              "355   1.344151   7.600220   -8.767895\n",
              "\n",
              "[642 rows x 3 columns]"
            ]
          },
          "execution_count": 84,
          "metadata": {},
          "output_type": "execute_result"
        }
      ],
      "source": [
        "Y_train"
      ]
    },
    {
      "cell_type": "code",
      "execution_count": null,
      "metadata": {
        "id": "q_udqiA2Lomw"
      },
      "outputs": [],
      "source": [
        "pitch_model = XGBRegressor(verbosity = 0)\n",
        "yaw_model = XGBRegressor(verbosity = 0)\n",
        "roll_model = XGBRegressor(verbosity = 0)"
      ]
    },
    {
      "cell_type": "code",
      "execution_count": null,
      "metadata": {
        "colab": {
          "base_uri": "https://localhost:8080/"
        },
        "id": "BILbK38iMvUW",
        "outputId": "091cb18d-a423-438b-8886-189b484d850d"
      },
      "outputs": [
        {
          "name": "stdout",
          "output_type": "stream",
          "text": [
            "{'estimator__learning_rate': 0.05}\n",
            "Train Error:  2.1310135914109023\n",
            "Validation Error:  6.846366050814738\n"
          ]
        }
      ],
      "source": [
        "gsc_pitch = GridSearchCV(\n",
        "            estimator=pitch_model,\n",
        "            param_grid={\"estimator__learning_rate\": (0.05, 0.10, 0.15)},\n",
        "            cv=3, scoring='neg_mean_squared_error', verbose=0, n_jobs=-1)\n",
        "grid_result_pitch = gsc_pitch.fit(X_train, Y_train.pitch)\n",
        "print(grid_result_pitch.best_params_)\n",
        "print(\"Train Error: \",mean_absolute_error(grid_result_pitch.predict(X_train),Y_train.pitch))\n",
        "print(\"Validation Error: \",mean_absolute_error(grid_result_pitch.predict(xtest),ytest.pitch))\n"
      ]
    },
    {
      "cell_type": "code",
      "execution_count": null,
      "metadata": {
        "colab": {
          "base_uri": "https://localhost:8080/"
        },
        "id": "f03cvX59UTXH",
        "outputId": "93c51e29-fd2e-4ea6-8d8c-9bf78cd91464"
      },
      "outputs": [
        {
          "name": "stdout",
          "output_type": "stream",
          "text": [
            "{'estimator__learning_rate': 0.05}\n",
            "Train Error:  1.871277373956852\n",
            "Validation Error:  4.3381494445206865\n"
          ]
        }
      ],
      "source": [
        "gsc_yaw = GridSearchCV(\n",
        "            estimator=yaw_model,\n",
        "            param_grid={\"estimator__learning_rate\": (0.05, 0.10, 0.15)},\n",
        "            cv=3, scoring='neg_mean_squared_error', verbose=0, n_jobs=-1)\n",
        "grid_result_yaw = gsc_pitch.fit(X_train, Y_train.yaw)\n",
        "print(grid_result_yaw.best_params_)\n",
        "print(\"Train Error: \",mean_absolute_error(grid_result_yaw.predict(X_train),Y_train.yaw))\n",
        "print(\"Validation Error: \",mean_absolute_error(grid_result_yaw.predict(xtest),ytest.yaw))\n"
      ]
    },
    {
      "cell_type": "code",
      "execution_count": null,
      "metadata": {
        "colab": {
          "base_uri": "https://localhost:8080/"
        },
        "id": "Po1vxQhpWj_Y",
        "outputId": "dbd9ffe4-87a5-4c43-c899-65be2bf16e90"
      },
      "outputs": [
        {
          "name": "stdout",
          "output_type": "stream",
          "text": [
            "{'estimator__learning_rate': 0.05}\n",
            "Train Error:  1.3419795288858598\n",
            "Validation Error:  5.424971723995746\n"
          ]
        }
      ],
      "source": [
        "gsc_roll = GridSearchCV(\n",
        "            estimator=roll_model,\n",
        "            param_grid={\"estimator__learning_rate\": (0.05, 0.10, 0.15)},\n",
        "            cv=3, scoring='neg_mean_squared_error', verbose=0, n_jobs=-1)\n",
        "grid_result_roll= gsc_pitch.fit(X_train, Y_train.roll)\n",
        "print(grid_result_roll.best_params_)\n",
        "print(\"Train Error: \",mean_absolute_error(grid_result_roll.predict(X_train),Y_train.roll))\n",
        "print(\"Validation Error: \",mean_absolute_error(grid_result_roll.predict(xtest),ytest.roll))"
      ]
    },
    {
      "cell_type": "code",
      "execution_count": null,
      "metadata": {
        "id": "nN7y8e8lQ2PR"
      },
      "outputs": [],
      "source": [
        ""
      ]
    },
    {
      "cell_type": "code",
      "execution_count": null,
      "metadata": {
        "id": "aXP7-KSwR0Wa"
      },
      "outputs": [],
      "source": [
        "# from IPython.display import display, Javascript\n",
        "# from google.colab.output import eval_js\n",
        "# from base64 import b64decode\n",
        "\n",
        "# def take_photo(filename='photo.jpg', quality=0.8):\n",
        "#   js = Javascript('''\n",
        "#     async function takePhoto(quality) {\n",
        "#       const div = document.createElement('div');\n",
        "#       const capture = document.createElement('button');\n",
        "#       capture.textContent = 'Capture';\n",
        "#       div.appendChild(capture);\n",
        "\n",
        "#       const video = document.createElement('video');\n",
        "#       video.style.display = 'block';\n",
        "#       const stream = await navigator.mediaDevices.getUserMedia({video: true});\n",
        "\n",
        "#       document.body.appendChild(div);\n",
        "#       div.appendChild(video);\n",
        "#       video.srcObject = stream;\n",
        "#       await video.play();\n",
        "\n",
        "#       // Resize the output to fit the video element.\n",
        "#       google.colab.output.setIframeHeight(document.documentElement.scrollHeight, true);\n",
        "\n",
        "#       // Wait for Capture to be clicked.\n",
        "#       await new Promise((resolve) => capture.onclick = resolve);\n",
        "\n",
        "#       const canvas = document.createElement('canvas');\n",
        "#       canvas.width = video.videoWidth;\n",
        "#       canvas.height = video.videoHeight;\n",
        "#       canvas.getContext('2d').drawImage(video, 0, 0);\n",
        "#       stream.getVideoTracks()[0].stop();\n",
        "#       div.remove();\n",
        "#       return canvas.toDataURL('image/jpeg', quality);\n",
        "#     }\n",
        "#     ''')\n",
        "#   display(js)\n",
        "#   data = eval_js('takePhoto({})'.format(quality))\n",
        "#   binary = b64decode(data.split(',')[1])\n",
        "#   with open(filename, 'wb') as f:\n",
        "#     f.write(binary)\n",
        "#   return filename"
      ]
    },
    {
      "cell_type": "code",
      "execution_count": null,
      "metadata": {
        "id": "J2kWFo-IR0Wc"
      },
      "outputs": [],
      "source": [
        "# from IPython.display import Image\n",
        "# try:\n",
        "#   filename = take_photo()\n",
        "#   print('Saved to {}'.format(filename))\n",
        "  \n",
        "#   # Show the image which was just taken.\n",
        "#   display(Image(filename))\n",
        "# except Exception as err:\n",
        "#   # Errors will be thrown if the user does not have a webcam or if they do not\n",
        "#   # grant the page permission to access it.\n",
        "#   print(str(err))"
      ]
    },
    {
      "cell_type": "code",
      "execution_count": null,
      "metadata": {
        "id": "JyUOgg40R69q"
      },
      "outputs": [],
      "source": [
        "# my_image=\"/content/photo.jpg\"\n",
        "# x_list,y_list=extract_land_marks(my_image,relative_path=None,abs_path=my_image)\n"
      ]
    },
    {
      "cell_type": "code",
      "execution_count": null,
      "metadata": {
        "id": "IM3Ly9smWExE"
      },
      "outputs": [],
      "source": [
        "# row = reshaping(x_list, y_list)\n",
        "# data=row.reshape(-1,468*2)\n",
        "# df = pd.DataFrame(data)"
      ]
    },
    {
      "cell_type": "code",
      "execution_count": null,
      "metadata": {
        "id": "cGDDinduWT3K"
      },
      "outputs": [],
      "source": [
        "# df\n"
      ]
    },
    {
      "cell_type": "code",
      "execution_count": null,
      "metadata": {
        "id": "aq1Y-WfbSzX3"
      },
      "outputs": [],
      "source": [
        "# pitch=grid_result_pitch.predict(X_train)\n",
        "# yaw=grid_result_yaw.predict(X_train)\n",
        "# roll=grid_result_yaw.predict(X_train)"
      ]
    },
    {
      "cell_type": "code",
      "execution_count": null,
      "metadata": {
        "id": "pQCZQu-wXP6h"
      },
      "outputs": [],
      "source": [
        "# x(my_image,yaw,pitch,roll)"
      ]
    },
    {
      "cell_type": "code",
      "execution_count": null,
      "metadata": {
        "colab": {
          "background_save": true
        },
        "id": "fD2Un6tQwzIM"
      },
      "outputs": [],
      "source": [
        "faceModule = mediapipe.solutions.face_mesh\n",
        "def On_video(pitch_model,yaw_model,roll_model,size =20):\n",
        "  cap = cv2.VideoCapture('/content/drive/MyDrive/Colab Notebooks/test.mp4')\n",
        "  width= int(cap.get(cv2.CAP_PROP_FRAME_WIDTH))\n",
        "  height= int(cap.get(cv2.CAP_PROP_FRAME_HEIGHT))\n",
        "  img_array = []\n",
        "  while(cap.isOpened()):   \n",
        "      ret, img = cap.read()\n",
        "      if ret == True:\n",
        "\n",
        "        with faceModule.FaceMesh(static_image_mode=True) as face:\n",
        "          results = face.process(cv2.cvtColor(img, cv2.COLOR_BGR2RGB))\n",
        "          if results.multi_face_landmarks != None:\n",
        "            for face in results.multi_face_landmarks:\n",
        "                X = []\n",
        "                Y = []\n",
        "                for j,landmark in enumerate(face.landmark):\n",
        "                    x = landmark.x\n",
        "                    y = landmark.y\n",
        "                   \n",
        "                    # note: the x and y values are scaled to the their width and height so we will get back their actual value in the image\n",
        "                    shape = img.shape \n",
        "                    new_x = int(x * shape[1])\n",
        "                    new_y = int(y * shape[0])\n",
        "                        \n",
        "                   \n",
        "                    X.append(new_x)\n",
        "                    Y.append(new_y)\n",
        "                X = np.array(X)\n",
        "                Y = np.array(Y)\n",
        "                X_nose = X - X[99]\n",
        "                Y_nose = Y - Y[99]\n",
        "                Shortest_distance = np.linalg.norm(np.array((X[171],Y[171])) - np.array((X[10],Y[10])))\n",
        "                X_normalized = X_nose/Shortest_distance\n",
        "                Y_normalized = Y_nose/Shortest_distance\n",
        "                features = np.hstack([X_normalized ,Y_normalized]).reshape(1,-1)\n",
        "                features=pd.DataFrame(features)\n",
        "                prediction_of_pitch = grid_result_pitch.predict(features)\n",
        "                prediction_of_yaw = grid_result_yaw.predict(features)\n",
        "                prediction_of_roll = grid_result_roll.predict(features)\n",
        "                cv2_imshow(draw_axis(img,prediction_of_pitch,prediction_of_yaw,prediction_of_roll,X[1],Y[1]))\n",
        "                img_array.append(img)\n",
        "      else: \n",
        "          break\n",
        "  cap.release()  \n",
        "  cv2.destroyAllWindows()\n",
        "  result = cv2.VideoWriter('video_result.mp4',cv2.VideoWriter_fourcc(*'DIVX'), 15, (width,height))\n",
        "  for i in range(len(img_array)):\n",
        "    result.write(img_array[i])\n",
        "  result.release()\n",
        " "
      ]
    },
    {
      "cell_type": "code",
      "execution_count": null,
      "metadata": {
        "id": "cSKsXAeIy98A"
      },
      "outputs": [],
      "source": [
        ""
      ]
    },
    {
      "cell_type": "code",
      "execution_count": null,
      "metadata": {
        "colab": {
          "background_save": true,
          "base_uri": "https://localhost:8080/",
          "height": 917
        },
        "id": "-0yRu-eDyVih",
        "outputId": "3d9f823e-5f7c-444b-833b-bc89b1f2e2de"
      },
      "outputs": [],
      "source": [
        "On_video(grid_result_pitch,grid_result_yaw,grid_result_roll,size = 25)"
      ]
    },
    {
      "cell_type": "code",
      "execution_count": null,
      "metadata": {
        "colab": {
          "background_save": true,
          "base_uri": "https://localhost:8080/",
          "height": 17
        },
        "id": "Mvls8PUtkq18",
        "outputId": "f13a7626-282c-49d4-d3a2-d4dd1d908130"
      },
      "outputs": [
        {
          "data": {
            "application/javascript": [
              "\n",
              "    async function download(id, filename, size) {\n",
              "      if (!google.colab.kernel.accessAllowed) {\n",
              "        return;\n",
              "      }\n",
              "      const div = document.createElement('div');\n",
              "      const label = document.createElement('label');\n",
              "      label.textContent = `Downloading \"${filename}\": `;\n",
              "      div.appendChild(label);\n",
              "      const progress = document.createElement('progress');\n",
              "      progress.max = size;\n",
              "      div.appendChild(progress);\n",
              "      document.body.appendChild(div);\n",
              "\n",
              "      const buffers = [];\n",
              "      let downloaded = 0;\n",
              "\n",
              "      const channel = await google.colab.kernel.comms.open(id);\n",
              "      // Send a message to notify the kernel that we're ready.\n",
              "      channel.send({})\n",
              "\n",
              "      for await (const message of channel.messages) {\n",
              "        // Send a message to notify the kernel that we're ready.\n",
              "        channel.send({})\n",
              "        if (message.buffers) {\n",
              "          for (const buffer of message.buffers) {\n",
              "            buffers.push(buffer);\n",
              "            downloaded += buffer.byteLength;\n",
              "            progress.value = downloaded;\n",
              "          }\n",
              "        }\n",
              "      }\n",
              "      const blob = new Blob(buffers, {type: 'application/binary'});\n",
              "      const a = document.createElement('a');\n",
              "      a.href = window.URL.createObjectURL(blob);\n",
              "      a.download = filename;\n",
              "      div.appendChild(a);\n",
              "      a.click();\n",
              "      div.remove();\n",
              "    }\n",
              "  "
            ],
            "text/plain": [
              "<IPython.core.display.Javascript object>"
            ]
          },
          "metadata": {},
          "output_type": "display_data"
        },
        {
          "data": {
            "application/javascript": [
              "download(\"download_135bff15-2781-4f91-b2f7-363d36d6677d\", \"video_result.mp4\", 1607177)"
            ],
            "text/plain": [
              "<IPython.core.display.Javascript object>"
            ]
          },
          "metadata": {},
          "output_type": "display_data"
        }
      ],
      "source": [
        "from google.colab import files\n",
        "files.download('/content/video_result.mp4')"
      ]
    },
    {
      "cell_type": "code",
      "execution_count": null,
      "metadata": {
        "id": "KNN9kT2S-cHE"
      },
      "outputs": [],
      "source": [
        ""
      ]
    }
  ],
  "metadata": {
    "colab": {
      "collapsed_sections": [],
      "name": "Untitled1.ipynb",
      "provenance": [],
      "mount_file_id": "1fXmYsmNpuMMBoDNY78m9_bJjqraL2FG6",
      "authorship_tag": "ABX9TyNvDWvPJCIK5iyibBQjCUAZ",
      "include_colab_link": true
    },
    "kernelspec": {
      "display_name": "Python 3",
      "name": "python3"
    },
    "language_info": {
      "name": "python"
    }
  },
  "nbformat": 4,
  "nbformat_minor": 0
}